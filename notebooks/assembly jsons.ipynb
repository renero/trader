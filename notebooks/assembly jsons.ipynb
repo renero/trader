{
  "cells": [
    {
      "cell_type": "markdown",
      "source": [
        "# Assembly jsons"
      ],
      "metadata": {}
    },
    {
      "cell_type": "code",
      "source": [
        "import json"
      ],
      "outputs": [],
      "execution_count": 1,
      "metadata": {}
    },
    {
      "cell_type": "code",
      "source": [
        "def read_json(filename):\n",
        "    with open(filename) as f:\n",
        "        data = json.load(f)\n",
        "    return data"
      ],
      "outputs": [],
      "execution_count": 2,
      "metadata": {}
    },
    {
      "cell_type": "code",
      "source": [
        "ohlc = read_json('../output/tmp_ohlcv.json')\n",
        "ensemble = read_json('../output/tmp_forecast.json')\n",
        "indicator = read_json('../output/tmp_konkorde.json')\n",
        "print(ohlc)\n",
        "print(ensemble)\n",
        "print(indicator)"
      ],
      "outputs": [
        {
          "output_type": "stream",
          "name": "stdout",
          "text": [
            "{'Date': '2019-11-11', 'Open': '94.25', 'Close': '94.25', 'High': '95.00', 'Low': '93.50', 'Volume': '73666'}\n",
            "{'w_avg': 96.4586018041}\n",
            "{'verde': 0.377625238, 'azul': -0.0693100911}\n"
          ]
        }
      ],
      "execution_count": 3,
      "metadata": {}
    },
    {
      "cell_type": "markdown",
      "source": [
        "This is the line that should be generated and appended to the end of the `forecast` file."
      ],
      "metadata": {}
    },
    {
      "cell_type": "code",
      "source": [
        "forecast_items = [ohlc['Date'], float(ohlc['Close']), ensemble['w_avg'],\n",
        "                  indicator['verde'], indicator['azul']]\n",
        "\n",
        "def f(x):\n",
        "    if type(x) == str:\n",
        "        return x\n",
        "    return '{:.2f}'.format(x)\n",
        "\n",
        "csv_row = ','.join(map(f, forecast_items))\n",
        "csv_row"
      ],
      "outputs": [
        {
          "output_type": "execute_result",
          "execution_count": 13,
          "data": {
            "text/plain": [
              "'2019-11-11,94.25,96.46,0.38,-0.07'"
            ]
          },
          "metadata": {}
        }
      ],
      "execution_count": 13,
      "metadata": {}
    },
    {
      "cell_type": "markdown",
      "source": [
        "To solve: \n",
        "\n",
        "- ~~Make a sinlge MinMaxScaler for Konkorde, save it when batching, and use it when computing a single value~~.\n",
        "- Save the portfolio status to later retrieve it."
      ],
      "metadata": {}
    },
    {
      "cell_type": "code",
      "source": [
        "a = 23.4\n",
        "type(a) == float"
      ],
      "outputs": [
        {
          "output_type": "execute_result",
          "execution_count": 12,
          "data": {
            "text/plain": [
              "True"
            ]
          },
          "metadata": {}
        }
      ],
      "execution_count": 12,
      "metadata": {
        "collapsed": false,
        "outputHidden": false,
        "inputHidden": false
      }
    },
    {
      "cell_type": "markdown",
      "source": [],
      "metadata": {}
    }
  ],
  "metadata": {
    "kernelspec": {
      "name": "python3",
      "language": "python",
      "display_name": "Python 3"
    },
    "language_info": {
      "name": "python",
      "version": "3.7.4",
      "mimetype": "text/x-python",
      "codemirror_mode": {
        "name": "ipython",
        "version": 3
      },
      "pygments_lexer": "ipython3",
      "nbconvert_exporter": "python",
      "file_extension": ".py"
    },
    "kernel_info": {
      "name": "python3"
    },
    "nteract": {
      "version": "0.15.0"
    }
  },
  "nbformat": 4,
  "nbformat_minor": 4
}
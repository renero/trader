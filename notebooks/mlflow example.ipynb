{
 "cells": [
  {
   "cell_type": "code",
   "execution_count": 1,
   "metadata": {},
   "outputs": [
    {
     "name": "stderr",
     "output_type": "stream",
     "text": [
      "/Users/renero/.virtualenvs/trader/lib/python3.7/site-packages/tensorflow/python/data/ops/iterator_ops.py:546: DeprecationWarning: Using or importing the ABCs from 'collections' instead of from 'collections.abc' is deprecated since Python 3.3,and in 3.9 it will stop working\n",
      "  class IteratorBase(collections.Iterator, trackable.Trackable,\n",
      "/Users/renero/.virtualenvs/trader/lib/python3.7/site-packages/tensorflow/python/data/ops/dataset_ops.py:106: DeprecationWarning: Using or importing the ABCs from 'collections' instead of from 'collections.abc' is deprecated since Python 3.3,and in 3.9 it will stop working\n",
      "  class DatasetV2(collections.Iterable, tracking_base.Trackable,\n"
     ]
    }
   ],
   "source": [
    "import mlflow\n",
    "import mlflow.keras\n",
    "from numpy import ndarray\n",
    "import pandas as pd\n",
    "import sys\n",
    "import tensorflow as tf\n",
    "\n",
    "%load_ext lab_black\n",
    "\n",
    "sys.path.append(\"/Users/renero/Documents/SideProjects/trader/src\")\n",
    "sys.path.append(\"/Users/renero/Documents/SideProjects/trader/src/predictor\")\n",
    "sys.path.append(\"/Users/renero/Documents/SideProjects/trader/src/utils\")\n",
    "\n",
    "from cs_dictionary import CSDictionary\n",
    "from cs_nn import CS_NN\n",
    "from sequences import sequences\n",
    "from ticks import Ticks\n",
    "from metrics import metrics"
   ]
  },
  {
   "cell_type": "code",
   "execution_count": 2,
   "metadata": {},
   "outputs": [
    {
     "name": "stderr",
     "output_type": "stream",
     "text": [
      "/Users/renero/.virtualenvs/trader/lib/python3.7/site-packages/ipykernel/ipkernel.py:287: DeprecationWarning: `should_run_async` will not call `transform_cell` automatically in the future. Please pass the result to `transformed_cell` argument and any exception that happen during thetransform in `preprocessing_exc_tuple` in IPython 7.17 and above.\n",
      "  and should_run_async(code)\n"
     ]
    },
    {
     "name": "stdout",
     "output_type": "stream",
     "text": [
      "2020-09-02 14:42:17 - INFO  - CSDictionary:__init__           - Using configuration parameters from: ../src/predictor/params.dax.yaml\n"
     ]
    }
   ],
   "source": [
    "argv = [\n",
    "    \"\",\n",
    "    \"-c\",\n",
    "    \"../src/predictor/params.dax.yaml\",\n",
    "    \"-f\",\n",
    "    \"../data/^GDAXI/dax_2018_2019.csv\",\n",
    "    \"--window\",\n",
    "    \"8\",\n",
    "    \"--epochs\",\n",
    "    \"400\",\n",
    "    \"train\",\n",
    "]\n",
    "params = CSDictionary(args=argv)"
   ]
  },
  {
   "cell_type": "markdown",
   "metadata": {},
   "source": [
    "# Load the data"
   ]
  },
  {
   "cell_type": "code",
   "execution_count": 3,
   "metadata": {},
   "outputs": [
    {
     "name": "stdout",
     "output_type": "stream",
     "text": [
      "X_train (424, 8, 4), y_train(424, 1)\n",
      "X_test (48, 8, 4), y_test(48, 1)\n"
     ]
    }
   ],
   "source": [
    "ticks = Ticks(params, params.input_file, scale=True)\n",
    "\n",
    "X_train, y_train, X_test, y_test = sequences.prepare(\n",
    "    ticks.data, timesteps=params.window_size, test_size=params.test_size\n",
    ")\n",
    "print(f\"X_train {X_train.shape}, y_train{y_train.shape}\")\n",
    "print(f\"X_test {X_test.shape}, y_test{y_test.shape}\")"
   ]
  },
  {
   "cell_type": "markdown",
   "metadata": {},
   "source": [
    "# Create the LSTM"
   ]
  },
  {
   "cell_type": "code",
   "execution_count": 4,
   "metadata": {},
   "outputs": [
    {
     "name": "stderr",
     "output_type": "stream",
     "text": [
      "/Users/renero/.virtualenvs/trader/lib/python3.7/site-packages/ipykernel/ipkernel.py:287: DeprecationWarning: `should_run_async` will not call `transform_cell` automatically in the future. Please pass the result to `transformed_cell` argument and any exception that happen during thetransform in `preprocessing_exc_tuple` in IPython 7.17 and above.\n",
      "  and should_run_async(code)\n"
     ]
    }
   ],
   "source": [
    "def build_model(\n",
    "    params: CSDictionary, num_features: int, num_target_labels: int):\n",
    "    tf.random.set_seed(params.seed)\n",
    "    nn = CS_NN(params, None, \"move\")\n",
    "    nn.build_model(\n",
    "        params.window_size, num_features, num_target_labels, params.summarize)\n",
    "    return nn\n",
    "\n",
    "\n",
    "def do_train(\n",
    "    experiment_id: int,\n",
    "    params: CSDictionary,\n",
    "    nn: CS_NN,\n",
    "    X_train: ndarray,\n",
    "    y_train: ndarray,\n",
    "    X_test: ndarray,\n",
    "    y_test: ndarray,\n",
    "):\n",
    "    with mlflow.start_run(experiment_id=experiment_id):\n",
    "        mlflow.keras.autolog()\n",
    "        nn.train(X_train, y_train)\n",
    "        mlflow.log_params(params)\n",
    "\n",
    "        yhat = nn.predict(X_test)\n",
    "        params.log.info(f\"Predictions (yhat): {yhat.shape}\")\n",
    "\n",
    "        n_predictions = int(X_test.shape[0])\n",
    "        params.log.info(f\"n_predictions: {n_predictions}\")\n",
    "\n",
    "        Y = y_test.reshape(n_predictions,)\n",
    "        Yhat = yhat.reshape(n_predictions,)\n",
    "        results = pd.DataFrame({\"y\": Y, \"yhat\": Yhat,}).round(2)\n",
    "        me = metrics.mean_error(results)\n",
    "        tp = metrics.trend_performance(results)\n",
    "        # mlflow.log_param(\"tf_seed\", params.seed)\n",
    "        mlflow.log_metric(\"trend_perf\", tp)\n",
    "        params.log.info(f\"Mean Err.: {me:5.3f}, Trend perf.: {tp:4.2f}\")\n",
    "\n",
    "    return results"
   ]
  },
  {
   "cell_type": "markdown",
   "metadata": {},
   "source": [
    "# Call this for single step training"
   ]
  },
  {
   "cell_type": "code",
   "execution_count": 5,
   "metadata": {},
   "outputs": [],
   "source": [
    "# rnn = build_model(\n",
    "#     params, num_features=X_train.shape[2], num_target_labels=y_train.shape[1]\n",
    "# )\n",
    "# result = do_train(params, rnn, X_train, y_train, X_test, y_test)"
   ]
  },
  {
   "cell_type": "markdown",
   "metadata": {},
   "source": [
    "# Hyper parameter search (grid)"
   ]
  },
  {
   "cell_type": "code",
   "execution_count": 10,
   "metadata": {},
   "outputs": [
    {
     "name": "stdout",
     "output_type": "stream",
     "text": [
      "2020-09-02 14:43:16 - INFO  - NA:<module>                     - X_train (431, 1, 4), y_train(431, 1)\n",
      "2020-09-02 14:43:16 - INFO  - NA:<module>                     - X_test (48, 1, 4), y_test(48, 1)\n",
      "2020-09-02 14:43:16 - INFO  - NA:<module>                     - w_size: 1; batch_size: 1\n",
      "2020-09-02 14:46:35 - INFO  - NA:do_train                     - Predictions (yhat): (48, 1)\n",
      "2020-09-02 14:46:35 - INFO  - NA:do_train                     - n_predictions: 48\n",
      "2020-09-02 14:46:35 - INFO  - NA:do_train                     - Mean Err.: 0.091, Trend perf.: 0.48\n",
      "2020-09-02 14:46:35 - INFO  - NA:<module>                     - X_train (431, 1, 4), y_train(431, 1)\n",
      "2020-09-02 14:46:35 - INFO  - NA:<module>                     - X_test (48, 1, 4), y_test(48, 1)\n",
      "2020-09-02 14:46:35 - INFO  - NA:<module>                     - w_size: 1; batch_size: 2\n",
      "2020-09-02 14:48:58 - INFO  - NA:do_train                     - Predictions (yhat): (48, 1)\n",
      "2020-09-02 14:48:58 - INFO  - NA:do_train                     - n_predictions: 48\n",
      "2020-09-02 14:48:58 - INFO  - NA:do_train                     - Mean Err.: 0.088, Trend perf.: 0.52\n",
      "2020-09-02 14:48:58 - INFO  - NA:<module>                     - X_train (431, 1, 4), y_train(431, 1)\n",
      "2020-09-02 14:48:58 - INFO  - NA:<module>                     - X_test (48, 1, 4), y_test(48, 1)\n",
      "2020-09-02 14:48:58 - INFO  - NA:<module>                     - w_size: 1; batch_size: 4\n",
      "2020-09-02 14:50:13 - INFO  - NA:do_train                     - Predictions (yhat): (48, 1)\n",
      "2020-09-02 14:50:13 - INFO  - NA:do_train                     - n_predictions: 48\n",
      "2020-09-02 14:50:13 - INFO  - NA:do_train                     - Mean Err.: 0.084, Trend perf.: 0.56\n",
      "2020-09-02 14:50:13 - INFO  - NA:<module>                     - X_train (431, 1, 4), y_train(431, 1)\n",
      "2020-09-02 14:50:13 - INFO  - NA:<module>                     - X_test (48, 1, 4), y_test(48, 1)\n",
      "2020-09-02 14:50:13 - INFO  - NA:<module>                     - w_size: 1; batch_size: 8\n",
      "2020-09-02 14:50:58 - INFO  - NA:do_train                     - Predictions (yhat): (48, 1)\n",
      "2020-09-02 14:50:58 - INFO  - NA:do_train                     - n_predictions: 48\n",
      "2020-09-02 14:50:58 - INFO  - NA:do_train                     - Mean Err.: 0.082, Trend perf.: 0.56\n",
      "2020-09-02 14:50:58 - INFO  - NA:<module>                     - X_train (430, 2, 4), y_train(430, 1)\n",
      "2020-09-02 14:50:58 - INFO  - NA:<module>                     - X_test (48, 2, 4), y_test(48, 1)\n",
      "2020-09-02 14:50:58 - INFO  - NA:<module>                     - w_size: 2; batch_size: 1\n",
      "WARNING:tensorflow:5 out of the last 9 calls to <function Model.make_predict_function.<locals>.predict_function at 0x1514eacb0> triggered tf.function retracing. Tracing is expensive and the excessive number of tracings could be due to (1) creating @tf.function repeatedly in a loop, (2) passing tensors with different shapes, (3) passing Python objects instead of tensors. For (1), please define your @tf.function outside of the loop. For (2), @tf.function has experimental_relax_shapes=True option that relaxes argument shapes that can avoid unnecessary retracing. For (3), please refer to https://www.tensorflow.org/tutorials/customization/performance#python_or_tensor_args and https://www.tensorflow.org/api_docs/python/tf/function for  more details.\n",
      "2020-09-02 14:54:52 - INFO  - NA:do_train                     - Predictions (yhat): (48, 1)\n",
      "2020-09-02 14:54:52 - INFO  - NA:do_train                     - n_predictions: 48\n",
      "2020-09-02 14:54:52 - INFO  - NA:do_train                     - Mean Err.: 0.094, Trend perf.: 0.48\n",
      "2020-09-02 14:54:52 - INFO  - NA:<module>                     - X_train (430, 2, 4), y_train(430, 1)\n",
      "2020-09-02 14:54:52 - INFO  - NA:<module>                     - X_test (48, 2, 4), y_test(48, 1)\n",
      "2020-09-02 14:54:52 - INFO  - NA:<module>                     - w_size: 2; batch_size: 2\n",
      "WARNING:tensorflow:6 out of the last 11 calls to <function Model.make_predict_function.<locals>.predict_function at 0x14fe48d40> triggered tf.function retracing. Tracing is expensive and the excessive number of tracings could be due to (1) creating @tf.function repeatedly in a loop, (2) passing tensors with different shapes, (3) passing Python objects instead of tensors. For (1), please define your @tf.function outside of the loop. For (2), @tf.function has experimental_relax_shapes=True option that relaxes argument shapes that can avoid unnecessary retracing. For (3), please refer to https://www.tensorflow.org/tutorials/customization/performance#python_or_tensor_args and https://www.tensorflow.org/api_docs/python/tf/function for  more details.\n",
      "2020-09-02 14:57:58 - INFO  - NA:do_train                     - Predictions (yhat): (48, 1)\n",
      "2020-09-02 14:57:58 - INFO  - NA:do_train                     - n_predictions: 48\n",
      "2020-09-02 14:57:58 - INFO  - NA:do_train                     - Mean Err.: 0.094, Trend perf.: 0.52\n",
      "2020-09-02 14:57:58 - INFO  - NA:<module>                     - X_train (430, 2, 4), y_train(430, 1)\n",
      "2020-09-02 14:57:58 - INFO  - NA:<module>                     - X_test (48, 2, 4), y_test(48, 1)\n",
      "2020-09-02 14:57:58 - INFO  - NA:<module>                     - w_size: 2; batch_size: 4\n",
      "WARNING:tensorflow:6 out of the last 11 calls to <function Model.make_predict_function.<locals>.predict_function at 0x15175a8c0> triggered tf.function retracing. Tracing is expensive and the excessive number of tracings could be due to (1) creating @tf.function repeatedly in a loop, (2) passing tensors with different shapes, (3) passing Python objects instead of tensors. For (1), please define your @tf.function outside of the loop. For (2), @tf.function has experimental_relax_shapes=True option that relaxes argument shapes that can avoid unnecessary retracing. For (3), please refer to https://www.tensorflow.org/tutorials/customization/performance#python_or_tensor_args and https://www.tensorflow.org/api_docs/python/tf/function for  more details.\n",
      "2020-09-02 14:59:37 - INFO  - NA:do_train                     - Predictions (yhat): (48, 1)\n",
      "2020-09-02 14:59:37 - INFO  - NA:do_train                     - n_predictions: 48\n",
      "2020-09-02 14:59:37 - INFO  - NA:do_train                     - Mean Err.: 0.098, Trend perf.: 0.52\n",
      "2020-09-02 14:59:37 - INFO  - NA:<module>                     - X_train (430, 2, 4), y_train(430, 1)\n",
      "2020-09-02 14:59:37 - INFO  - NA:<module>                     - X_test (48, 2, 4), y_test(48, 1)\n",
      "2020-09-02 14:59:37 - INFO  - NA:<module>                     - w_size: 2; batch_size: 8\n",
      "WARNING:tensorflow:6 out of the last 11 calls to <function Model.make_predict_function.<locals>.predict_function at 0x152755c20> triggered tf.function retracing. Tracing is expensive and the excessive number of tracings could be due to (1) creating @tf.function repeatedly in a loop, (2) passing tensors with different shapes, (3) passing Python objects instead of tensors. For (1), please define your @tf.function outside of the loop. For (2), @tf.function has experimental_relax_shapes=True option that relaxes argument shapes that can avoid unnecessary retracing. For (3), please refer to https://www.tensorflow.org/tutorials/customization/performance#python_or_tensor_args and https://www.tensorflow.org/api_docs/python/tf/function for  more details.\n",
      "2020-09-02 15:00:33 - INFO  - NA:do_train                     - Predictions (yhat): (48, 1)\n",
      "2020-09-02 15:00:33 - INFO  - NA:do_train                     - n_predictions: 48\n",
      "2020-09-02 15:00:33 - INFO  - NA:do_train                     - Mean Err.: 0.103, Trend perf.: 0.52\n",
      "2020-09-02 15:00:33 - INFO  - NA:<module>                     - X_train (428, 4, 4), y_train(428, 1)\n",
      "2020-09-02 15:00:33 - INFO  - NA:<module>                     - X_test (48, 4, 4), y_test(48, 1)\n",
      "2020-09-02 15:00:33 - INFO  - NA:<module>                     - w_size: 4; batch_size: 1\n",
      "WARNING:tensorflow:6 out of the last 11 calls to <function Model.make_predict_function.<locals>.predict_function at 0x151b004d0> triggered tf.function retracing. Tracing is expensive and the excessive number of tracings could be due to (1) creating @tf.function repeatedly in a loop, (2) passing tensors with different shapes, (3) passing Python objects instead of tensors. For (1), please define your @tf.function outside of the loop. For (2), @tf.function has experimental_relax_shapes=True option that relaxes argument shapes that can avoid unnecessary retracing. For (3), please refer to https://www.tensorflow.org/tutorials/customization/performance#python_or_tensor_args and https://www.tensorflow.org/api_docs/python/tf/function for  more details.\n",
      "2020-09-02 15:05:57 - INFO  - NA:do_train                     - Predictions (yhat): (48, 1)\n",
      "2020-09-02 15:05:57 - INFO  - NA:do_train                     - n_predictions: 48\n",
      "2020-09-02 15:05:57 - INFO  - NA:do_train                     - Mean Err.: 0.110, Trend perf.: 0.48\n",
      "2020-09-02 15:05:57 - INFO  - NA:<module>                     - X_train (428, 4, 4), y_train(428, 1)\n",
      "2020-09-02 15:05:57 - INFO  - NA:<module>                     - X_test (48, 4, 4), y_test(48, 1)\n",
      "2020-09-02 15:05:57 - INFO  - NA:<module>                     - w_size: 4; batch_size: 2\n",
      "WARNING:tensorflow:6 out of the last 11 calls to <function Model.make_predict_function.<locals>.predict_function at 0x151b00c20> triggered tf.function retracing. Tracing is expensive and the excessive number of tracings could be due to (1) creating @tf.function repeatedly in a loop, (2) passing tensors with different shapes, (3) passing Python objects instead of tensors. For (1), please define your @tf.function outside of the loop. For (2), @tf.function has experimental_relax_shapes=True option that relaxes argument shapes that can avoid unnecessary retracing. For (3), please refer to https://www.tensorflow.org/tutorials/customization/performance#python_or_tensor_args and https://www.tensorflow.org/api_docs/python/tf/function for  more details.\n",
      "2020-09-02 15:10:19 - INFO  - NA:do_train                     - Predictions (yhat): (48, 1)\n",
      "2020-09-02 15:10:19 - INFO  - NA:do_train                     - n_predictions: 48\n",
      "2020-09-02 15:10:19 - INFO  - NA:do_train                     - Mean Err.: 0.114, Trend perf.: 0.50\n",
      "2020-09-02 15:10:19 - INFO  - NA:<module>                     - X_train (428, 4, 4), y_train(428, 1)\n",
      "2020-09-02 15:10:19 - INFO  - NA:<module>                     - X_test (48, 4, 4), y_test(48, 1)\n",
      "2020-09-02 15:10:19 - INFO  - NA:<module>                     - w_size: 4; batch_size: 4\n",
      "WARNING:tensorflow:6 out of the last 11 calls to <function Model.make_predict_function.<locals>.predict_function at 0x151e608c0> triggered tf.function retracing. Tracing is expensive and the excessive number of tracings could be due to (1) creating @tf.function repeatedly in a loop, (2) passing tensors with different shapes, (3) passing Python objects instead of tensors. For (1), please define your @tf.function outside of the loop. For (2), @tf.function has experimental_relax_shapes=True option that relaxes argument shapes that can avoid unnecessary retracing. For (3), please refer to https://www.tensorflow.org/tutorials/customization/performance#python_or_tensor_args and https://www.tensorflow.org/api_docs/python/tf/function for  more details.\n",
      "2020-09-02 15:12:34 - INFO  - NA:do_train                     - Predictions (yhat): (48, 1)\n",
      "2020-09-02 15:12:34 - INFO  - NA:do_train                     - n_predictions: 48\n",
      "2020-09-02 15:12:34 - INFO  - NA:do_train                     - Mean Err.: 0.103, Trend perf.: 0.54\n",
      "2020-09-02 15:12:34 - INFO  - NA:<module>                     - X_train (428, 4, 4), y_train(428, 1)\n",
      "2020-09-02 15:12:34 - INFO  - NA:<module>                     - X_test (48, 4, 4), y_test(48, 1)\n",
      "2020-09-02 15:12:34 - INFO  - NA:<module>                     - w_size: 4; batch_size: 8\n",
      "WARNING:tensorflow:6 out of the last 11 calls to <function Model.make_predict_function.<locals>.predict_function at 0x1530a6560> triggered tf.function retracing. Tracing is expensive and the excessive number of tracings could be due to (1) creating @tf.function repeatedly in a loop, (2) passing tensors with different shapes, (3) passing Python objects instead of tensors. For (1), please define your @tf.function outside of the loop. For (2), @tf.function has experimental_relax_shapes=True option that relaxes argument shapes that can avoid unnecessary retracing. For (3), please refer to https://www.tensorflow.org/tutorials/customization/performance#python_or_tensor_args and https://www.tensorflow.org/api_docs/python/tf/function for  more details.\n",
      "2020-09-02 15:13:52 - INFO  - NA:do_train                     - Predictions (yhat): (48, 1)\n",
      "2020-09-02 15:13:52 - INFO  - NA:do_train                     - n_predictions: 48\n",
      "2020-09-02 15:13:52 - INFO  - NA:do_train                     - Mean Err.: 0.096, Trend perf.: 0.46\n",
      "2020-09-02 15:13:52 - INFO  - NA:<module>                     - X_train (424, 8, 4), y_train(424, 1)\n",
      "2020-09-02 15:13:52 - INFO  - NA:<module>                     - X_test (48, 8, 4), y_test(48, 1)\n",
      "2020-09-02 15:13:52 - INFO  - NA:<module>                     - w_size: 8; batch_size: 1\n",
      "WARNING:tensorflow:6 out of the last 11 calls to <function Model.make_predict_function.<locals>.predict_function at 0x15175a4d0> triggered tf.function retracing. Tracing is expensive and the excessive number of tracings could be due to (1) creating @tf.function repeatedly in a loop, (2) passing tensors with different shapes, (3) passing Python objects instead of tensors. For (1), please define your @tf.function outside of the loop. For (2), @tf.function has experimental_relax_shapes=True option that relaxes argument shapes that can avoid unnecessary retracing. For (3), please refer to https://www.tensorflow.org/tutorials/customization/performance#python_or_tensor_args and https://www.tensorflow.org/api_docs/python/tf/function for  more details.\n",
      "2020-09-02 15:21:53 - INFO  - NA:do_train                     - Predictions (yhat): (48, 1)\n",
      "2020-09-02 15:21:53 - INFO  - NA:do_train                     - n_predictions: 48\n",
      "2020-09-02 15:21:53 - INFO  - NA:do_train                     - Mean Err.: 0.106, Trend perf.: 0.54\n",
      "2020-09-02 15:21:53 - INFO  - NA:<module>                     - X_train (424, 8, 4), y_train(424, 1)\n",
      "2020-09-02 15:21:53 - INFO  - NA:<module>                     - X_test (48, 8, 4), y_test(48, 1)\n",
      "2020-09-02 15:21:53 - INFO  - NA:<module>                     - w_size: 8; batch_size: 2\n",
      "WARNING:tensorflow:6 out of the last 11 calls to <function Model.make_predict_function.<locals>.predict_function at 0x1526cf4d0> triggered tf.function retracing. Tracing is expensive and the excessive number of tracings could be due to (1) creating @tf.function repeatedly in a loop, (2) passing tensors with different shapes, (3) passing Python objects instead of tensors. For (1), please define your @tf.function outside of the loop. For (2), @tf.function has experimental_relax_shapes=True option that relaxes argument shapes that can avoid unnecessary retracing. For (3), please refer to https://www.tensorflow.org/tutorials/customization/performance#python_or_tensor_args and https://www.tensorflow.org/api_docs/python/tf/function for  more details.\n",
      "2020-09-02 16:25:25 - INFO  - NA:do_train                     - Predictions (yhat): (48, 1)\n",
      "2020-09-02 16:25:25 - INFO  - NA:do_train                     - n_predictions: 48\n",
      "2020-09-02 16:25:26 - INFO  - NA:do_train                     - Mean Err.: 0.128, Trend perf.: 0.56\n",
      "2020-09-02 16:25:26 - INFO  - NA:<module>                     - X_train (424, 8, 4), y_train(424, 1)\n",
      "2020-09-02 16:25:26 - INFO  - NA:<module>                     - X_test (48, 8, 4), y_test(48, 1)\n",
      "2020-09-02 16:25:26 - INFO  - NA:<module>                     - w_size: 8; batch_size: 4\n",
      "WARNING:tensorflow:6 out of the last 11 calls to <function Model.make_predict_function.<locals>.predict_function at 0x151fc9290> triggered tf.function retracing. Tracing is expensive and the excessive number of tracings could be due to (1) creating @tf.function repeatedly in a loop, (2) passing tensors with different shapes, (3) passing Python objects instead of tensors. For (1), please define your @tf.function outside of the loop. For (2), @tf.function has experimental_relax_shapes=True option that relaxes argument shapes that can avoid unnecessary retracing. For (3), please refer to https://www.tensorflow.org/tutorials/customization/performance#python_or_tensor_args and https://www.tensorflow.org/api_docs/python/tf/function for  more details.\n",
      "2020-09-02 16:28:56 - INFO  - NA:do_train                     - Predictions (yhat): (48, 1)\n",
      "2020-09-02 16:28:57 - INFO  - NA:do_train                     - n_predictions: 48\n",
      "2020-09-02 16:28:57 - INFO  - NA:do_train                     - Mean Err.: 0.132, Trend perf.: 0.52\n",
      "2020-09-02 16:28:57 - INFO  - NA:<module>                     - X_train (424, 8, 4), y_train(424, 1)\n",
      "2020-09-02 16:28:57 - INFO  - NA:<module>                     - X_test (48, 8, 4), y_test(48, 1)\n",
      "2020-09-02 16:28:57 - INFO  - NA:<module>                     - w_size: 8; batch_size: 8\n",
      "WARNING:tensorflow:6 out of the last 11 calls to <function Model.make_predict_function.<locals>.predict_function at 0x152cee7a0> triggered tf.function retracing. Tracing is expensive and the excessive number of tracings could be due to (1) creating @tf.function repeatedly in a loop, (2) passing tensors with different shapes, (3) passing Python objects instead of tensors. For (1), please define your @tf.function outside of the loop. For (2), @tf.function has experimental_relax_shapes=True option that relaxes argument shapes that can avoid unnecessary retracing. For (3), please refer to https://www.tensorflow.org/tutorials/customization/performance#python_or_tensor_args and https://www.tensorflow.org/api_docs/python/tf/function for  more details.\n",
      "2020-09-02 16:30:53 - INFO  - NA:do_train                     - Predictions (yhat): (48, 1)\n",
      "2020-09-02 16:30:54 - INFO  - NA:do_train                     - n_predictions: 48\n",
      "2020-09-02 16:30:54 - INFO  - NA:do_train                     - Mean Err.: 0.105, Trend perf.: 0.60\n",
      "Error in callback <bound method BlackFormatter.format_cell of <lab_black.BlackFormatter object at 0x10687c490>> (for post_run_cell):\n"
     ]
    },
    {
     "ename": "IndentationError",
     "evalue": "unindent does not match any outer indentation level (<tokenize>, line 19)",
     "output_type": "error",
     "traceback": [
      "\u001b[0;36m  File \u001b[0;32m\"<tokenize>\"\u001b[0;36m, line \u001b[0;32m19\u001b[0m\n\u001b[0;31m    )\u001b[0m\n\u001b[0m    ^\u001b[0m\n\u001b[0;31mIndentationError\u001b[0m\u001b[0;31m:\u001b[0m unindent does not match any outer indentation level\n"
     ]
    }
   ],
   "source": [
    "experiment_id = mlflow.create_experiment('grid_search')\n",
    "for i in range(4):\n",
    "    ts = 2**i\n",
    "    for j in range(4):\n",
    "        bs = 2**j\n",
    "        params.batch_size=bs\n",
    "        params.window_size=ts\n",
    "\n",
    "        X_train, y_train, X_test, y_test = sequences.prepare(ticks.data, timesteps=params.window_size, test_size=params.test_size)\n",
    "        params.log.info(f\"X_train {X_train.shape}, y_train{y_train.shape}\")\n",
    "        params.log.info(f\"X_test {X_test.shape}, y_test{y_test.shape}\")\n",
    "        params.log.info(\n",
    "            f'w_size: {params.window_size}; batch_size: {params.batch_size}')\n",
    "\n",
    "        rnn = build_model(\n",
    "            params, \n",
    "            num_features=X_train.shape[2], \n",
    "            num_target_labels=y_train.shape[1]\n",
    "        )\n",
    "        result = do_train(experiment_id, params, rnn, X_train, y_train, X_test, y_test)"
   ]
  },
  {
   "cell_type": "markdown",
   "metadata": {},
   "source": [
    "# Plot results"
   ]
  },
  {
   "cell_type": "code",
   "execution_count": null,
   "metadata": {},
   "outputs": [],
   "source": [
    "# metrics.plot_and_compare(result)"
   ]
  },
  {
   "cell_type": "code",
   "execution_count": null,
   "metadata": {},
   "outputs": [],
   "source": []
  }
 ],
 "metadata": {
  "kernelspec": {
   "display_name": "Python 3",
   "language": "python",
   "name": "python3"
  },
  "language_info": {
   "codemirror_mode": {
    "name": "ipython",
    "version": 3
   },
   "file_extension": ".py",
   "mimetype": "text/x-python",
   "name": "python",
   "nbconvert_exporter": "python",
   "pygments_lexer": "ipython3",
   "version": "3.7.8"
  }
 },
 "nbformat": 4,
 "nbformat_minor": 4
}

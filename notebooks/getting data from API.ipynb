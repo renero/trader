{
  "cells": [
    {
      "cell_type": "markdown",
      "source": [
        "# Getting stock latest OHLCV"
      ],
      "metadata": {}
    },
    {
      "cell_type": "code",
      "source": [
        "import pandas as pd\n",
        "import numpy as np\n",
        "import requests\n",
        "import holidays\n",
        "import json\n",
        "\n",
        "from datetime import datetime\n",
        "from pandas.tseries.offsets import BDay\n",
        "from datetime import date\n",
        "\n",
        "symbol = 'ANA.MC'"
      ],
      "outputs": [],
      "execution_count": 1,
      "metadata": {
        "jupyter": {
          "source_hidden": true
        }
      }
    },
    {
      "cell_type": "markdown",
      "source": [
        "## Determining dates and closing values\n",
        "\n",
        "When running the pipeline, the sequence of events must consider what is the last working day from which we have data.\n",
        "\n",
        "I've prepared two classes called\n",
        "\n",
        "`last`\n",
        "\n",
        "and\n",
        "\n",
        "`closing`\n",
        "    \n",
        "to provide the last working day, from the day it is invoked, and the closing value, of a stock symbol."
      ],
      "metadata": {}
    },
    {
      "cell_type": "code",
      "source": [
        "class last:\n",
        "\n",
        "    @staticmethod\n",
        "    def split_date(datestr: str) -> (int, int, int):\n",
        "        \"\"\"Simply splits the string date passed in a list with YYYY, MM and DD\"\"\"\n",
        "        year = int(datestr[:4])\n",
        "        month = int(datestr[5:7])\n",
        "        day = int(datestr[8:])\n",
        "        return [year, month, day]\n",
        "\n",
        "    @staticmethod\n",
        "    def business_day(datetime_str: str = None, strformat: bool = True):\n",
        "        \"\"\"\n",
        "        Returns the last business day.\n",
        "        :params datetime_str: A date in format 'YYYY-MM-DD' from which to compute \n",
        "            what is the last business day.\n",
        "        :params strformat: Whether to convert the returns value to string. Default YES.\n",
        "            Otherwise, the value returned is a datetime object\n",
        "        \"\"\"\n",
        "        if datetime_str is None:\n",
        "            datetime_obj = pd.datetime.today()\n",
        "        else:\n",
        "            datetime_obj = datetime.strptime(datetime_str, '%Y-%m-%d')\n",
        "\n",
        "        last_business_day = datetime_obj - BDay(1)\n",
        "        if strformat:\n",
        "            return last_business_day.strftime('%Y-%m-%d')\n",
        "        else:\n",
        "            return last_business_day.to_pydatetime()\n",
        "    \n",
        "    @staticmethod\n",
        "    def working_day(today: str = None, country: str = 'ES', max_days_back: int = 10):\n",
        "        \"\"\"Find the last working day from the reference date passed in `today`.\n",
        "        Bank holidays are searched in the country specified in the second arg\n",
        "\n",
        "        :param today: The date from which to start searching back for a working day.\n",
        "            Default will use today's date.\n",
        "        :param country: The country to use for bank holidays.\n",
        "        :param max_days_back: Max nr. of days to search back for a working day.\n",
        "\n",
        "        :return: The first working day, non-bank holiday, back from reference date.\n",
        "                 If cannot be found within the max nr. of days back, returns 'UNKNOWN'\n",
        "        \"\"\"\n",
        "        if today is None:\n",
        "            today = datetime.today().strftime('%Y-%m-%d')\n",
        "        ref_date = today\n",
        "        last_business_day_found = False\n",
        "        loop_iters = 0\n",
        "        while not last_business_day_found and loop_iters < max_days_back:\n",
        "            last_day = last.business_day(ref_date)\n",
        "            if date(*last.split_date(last_day)) in getattr(holidays, country)():\n",
        "                ref_date = last_day\n",
        "                loop_iters += 1\n",
        "            else:\n",
        "                last_business_day_found = True\n",
        "        if loop_iters < max_days_back:\n",
        "            return last_day\n",
        "        return 'UNKNOWN'\n"
      ],
      "outputs": [],
      "execution_count": 2,
      "metadata": {
        "jupyter": {
          "source_hidden": true
        }
      }
    },
    {
      "cell_type": "code",
      "source": [
        "last.working_day('2019-11-04')"
      ],
      "outputs": [
        {
          "output_type": "execute_result",
          "execution_count": 3,
          "data": {
            "text/plain": [
              "'2019-10-31'"
            ]
          },
          "metadata": {}
        }
      ],
      "execution_count": 3,
      "metadata": {}
    },
    {
      "cell_type": "code",
      "source": [
        "class closing:\n",
        "    \"\"\"\n",
        "    Get the last closing values from the specified stock provider\n",
        "    \"\"\"\n",
        "    \n",
        "    def alpha_vantage(url='https://www.alphavantage.co', \n",
        "                      api_entry='/query?', \n",
        "                      api_key='HF9S3IZSBKSKHPV3',\n",
        "                      **kwargs):\n",
        "        endpoint = url + api_entry\n",
        "        arguments = '&'.join('{}={}'.format(key, value) for key, value in kwargs.items())\n",
        "        arguments += '&apikey={}'.format(api_key)\n",
        "        endpoint = endpoint+arguments\n",
        "        response = requests.get(endpoint).json()\n",
        "        stock_closing = dict()\n",
        "        for old_key in response['Global Quote'].keys():\n",
        "            stock_closing[old_key[4:]] = response['Global Quote'][old_key]\n",
        "        return stock_closing\n",
        "    \n",
        "    def world_trading_data(url='https://api.worldtradingdata.com',\n",
        "                          api_entry='/api/v1/history_multi_single_day?',\n",
        "                          api_key='WzDx1XnfvdGGBbfmAGwBuZBBnWKhMCIqbbVlmVKK3jFIvSLVphldCZPqOy2l',\n",
        "                          **kwargs):\n",
        "        endpoint = url + api_entry\n",
        "        arguments = '&'.join('{}={}'.format(key, value) for key, value in kwargs.items())\n",
        "        arguments += '&api_token={}'.format(api_key)\n",
        "        endpoint = endpoint+arguments\n",
        "        response = requests.get(endpoint).json()\n",
        "        return response"
      ],
      "outputs": [],
      "execution_count": 4,
      "metadata": {
        "jupyter": {
          "source_hidden": true
        }
      }
    },
    {
      "cell_type": "markdown",
      "source": [
        "To get the stock data, we call `closing.alpha_vantage` which is the only one that is working at the moment. The result is a dictionary with a set of fields that will contain all the required information."
      ],
      "metadata": {}
    },
    {
      "cell_type": "code",
      "source": [
        "stock_data = closing.alpha_vantage(function='GLOBAL_QUOTE', symbol=symbol)\n",
        "stock_data"
      ],
      "outputs": [
        {
          "output_type": "execute_result",
          "execution_count": 5,
          "data": {
            "text/plain": [
              "{'symbol': 'ANA.MC',\n",
              " 'open': '92.1500',\n",
              " 'high': '96.3000',\n",
              " 'low': '91.8000',\n",
              " 'price': '94.6000',\n",
              " 'volume': '130028',\n",
              " 'latest trading day': '2019-11-08',\n",
              " 'previous close': '92.7500',\n",
              " 'change': '1.8500',\n",
              " 'change percent': '1.9946%'}"
            ]
          },
          "metadata": {}
        }
      ],
      "execution_count": 5,
      "metadata": {}
    },
    {
      "cell_type": "markdown",
      "source": [
        "Check if the data retrieved corresponds to the last working day. If so, I can obtain the OHLCV info, and dump it to the proper file(s)..."
      ],
      "metadata": {}
    },
    {
      "cell_type": "markdown",
      "source": [
        "`stock_data['latest trading day'] == last.working_day()`"
      ],
      "metadata": {}
    },
    {
      "cell_type": "markdown",
      "source": [
        "### Pipeline stage\n",
        "\n",
        "Make a bundle to be executed from monday to friday that will:\n",
        "\n",
        "1. Guess what is the last day it must retrieve data for\n",
        "2. Call the stock info provider to retrieve that data\n",
        "3. append that data to the OHLCV file\n",
        "\n",
        "Given the dependencies outlined above, this piece of code should be called like this:\n",
        "\n",
        "`latest_closing --symbol ANA.MC --file data/acciona_2019.csv`"
      ],
      "metadata": {}
    },
    {
      "cell_type": "code",
      "source": [
        "def csv_row(stock_data: dict) -> str:\n",
        "    # Copy the original repsonse from the provider to preserve it\n",
        "    sd = stock_data.copy()\n",
        "    for v in sd.keys():\n",
        "        sd[v] = [sd[v]]\n",
        "\n",
        "    # Create a dataframe from it\n",
        "    my_columns = ['latest trading day', 'open', 'high', 'low', 'price', 'volume']\n",
        "    latest_ohlcv = pd.DataFrame.from_dict(sd)\n",
        "    latest_ohlcv = latest_ohlcv[my_columns].copy(deep=True)\n",
        "    latest_ohlcv.columns = ['Date', 'Open', 'High', 'Low', 'Close', 'Volume']\n",
        "\n",
        "    # reduce the precision to two decimals, only.\n",
        "    def f(x):\n",
        "        if '.' in x:\n",
        "            return x[0:x.index('.')+3]\n",
        "        else:\n",
        "            return x\n",
        "\n",
        "    row = list(map(f, list(latest_ohlcv.values[0])))\n",
        "    row = ','.join(map(str, row)) + '\\n'\n",
        "    return row"
      ],
      "outputs": [],
      "execution_count": 36,
      "metadata": {}
    },
    {
      "cell_type": "code",
      "source": [
        "symbol = 'ANA.MC'\n",
        "\n",
        "# Retrieve the latest stock info about the symbol and check if dates match\n",
        "last_day = last.working_day()\n",
        "stock_data = closing.alpha_vantage(function='GLOBAL_QUOTE', symbol=symbol)\n",
        "if stock_data['latest trading day'] != last.working_day():\n",
        "    msg = 'Latest stock DATE doesn\\'t match last working day\\n'\n",
        "    msg +='  {} != {}'.format(stock_data['latest trading day'],\n",
        "                              last.working_day())\n",
        "    raise ValueError(msg)\n",
        "\n",
        "row = csv_row(stock_data)\n",
        "with open('/Users/renero/trader/data/prueba2019.csv','a') as fd:\n",
        "    fd.write(row)\n",
        "fd.close()"
      ],
      "outputs": [],
      "execution_count": 32,
      "metadata": {}
    }
  ],
  "metadata": {
    "kernelspec": {
      "name": "python3",
      "language": "python",
      "display_name": "Python 3"
    },
    "language_info": {
      "name": "python",
      "version": "3.7.4",
      "mimetype": "text/x-python",
      "codemirror_mode": {
        "name": "ipython",
        "version": 3
      },
      "pygments_lexer": "ipython3",
      "nbconvert_exporter": "python",
      "file_extension": ".py"
    },
    "kernel_info": {
      "name": "python3"
    },
    "nteract": {
      "version": "0.15.0"
    }
  },
  "nbformat": 4,
  "nbformat_minor": 4
}
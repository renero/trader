{
 "cells": [
  {
   "cell_type": "markdown",
   "metadata": {},
   "source": [
    "# Trader pipeline "
   ]
  },
  {
   "cell_type": "markdown",
   "metadata": {},
   "source": [
    "## Prediction\n",
    "\n",
    "    IN: OHLCV file. Last line contains latest closing value to be used\n",
    "    OUT: Predictions from all networks in `json` format.\n",
    "\n",
    "Start by reading the file, and locating the last line. From that, I prepare an input file for the networks that will produce the forecast, with only `prediction_frame_size` values.\n",
    "\n",
    "Call the module that makes the prediction, and save it in json format in a temporay file.\n",
    "\n",
    "    $ tail -50 data/acciona_2019.csv > tmp/tmp_ohlcv.csv\n",
    "$ python predictor.py -f ../tmp/tmp_ohlcv.csv predict\n",
    "\n",
    "This will generate a json file within `tmp` with the predictions made by every recurrent network used."
   ]
  },
  {
   "cell_type": "markdown",
   "metadata": {},
   "source": [
    "## Ensemble\n",
    "\n",
    "    IN: `pred_stock_year_net1_net2_..._netN.csv`\n",
    "    OUT: `forecast_stock_year_net1...netN.csv`\n",
    "\n",
    "At this point, the predictions are in a file called `tmp/tmp_pred.json`. We need to read them and produce the ensemble.\n",
    "\n",
    "    $ python predictor.py -f ../output/pred_acciona_2019_8yw20_8yw10_8yw05.csv ensemble\n",
    "\n",
    "This will generate a json file in the `tmp` directory that will contain the weighted prediction."
   ]
  },
  {
   "cell_type": "markdown",
   "metadata": {},
   "source": [
    "## Indicator (Konkorde)\n",
    "\n",
    "    IN: OHLCV updated file\n",
    "    OUT: ../tmp/tmp_indicator.json\n",
    "\n",
    "To compute the indicator, we call:\n",
    "\n",
    "    $ python indicators.py -i ../data/acciona_2019.csv --today\n",
    "\n",
    "And the result will be a json file within the `tmp` directory containin a sinle line with the values for the indicators specified."
   ]
  },
  {
   "cell_type": "markdown",
   "metadata": {},
   "source": [
    "## Trader action\n",
    "\n",
    "Trader uses as input a file with the actual values + their forecast + konkorde indicators (verde + azul)\n",
    "\n",
    "    test_y, forecast, verde, azul\n",
    "    81.88,  82.26,    -0.67, -0.27\n",
    "    83.10,  82.13,    -0.67, 0.04\n",
    "    83.44,  84.24,    -0.67, 0.00\n",
    "    83.66,  82.80,    -0.67, 0.08\n",
    "    \n",
    "I need to generate this from the data generated in the previous iterations"
   ]
  }
 ],
 "metadata": {
  "kernelspec": {
   "display_name": "Python 3",
   "language": "python",
   "name": "python3"
  },
  "language_info": {
   "codemirror_mode": {
    "name": "ipython",
    "version": 3
   },
   "file_extension": ".py",
   "mimetype": "text/x-python",
   "name": "python",
   "nbconvert_exporter": "python",
   "pygments_lexer": "ipython3",
   "version": "3.7.3"
  }
 },
 "nbformat": 4,
 "nbformat_minor": 4
}

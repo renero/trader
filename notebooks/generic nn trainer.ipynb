{
 "cells": [
  {
   "cell_type": "markdown",
   "metadata": {},
   "source": [
    "# Generic NN trainer"
   ]
  },
  {
   "cell_type": "code",
   "execution_count": 1,
   "metadata": {},
   "outputs": [],
   "source": [
    "import sys\n",
    "from os.path import splitext, basename\n",
    "\n",
    "import warnings\n",
    "\n",
    "warnings.filterwarnings(\"ignore\", category=DeprecationWarning)\n",
    "warnings.simplefilter(\"ignore\")\n",
    "\n",
    "%load_ext lab_black\n",
    "\n",
    "sys.path.append(\"/Users/renero/Documents/SideProjects/trader/src\")\n",
    "sys.path.append(\"/Users/renero/Documents/SideProjects/trader/src/predictor\")\n",
    "\n",
    "\n",
    "from dictionary import Dictionary\n",
    "from lstm import lstm\n",
    "from predictor.ticks import Ticks\n",
    "from utils.utils import print_bin_predictions_match\n",
    "from utils.plot_utils import plot_marks"
   ]
  },
  {
   "cell_type": "markdown",
   "metadata": {},
   "source": [
    "## Setup the generic parameters for the trainer"
   ]
  },
  {
   "cell_type": "code",
   "execution_count": 2,
   "metadata": {
    "tags": []
   },
   "outputs": [
    {
     "name": "stdout",
     "output_type": "stream",
     "text": [
      "2020-10-25 17:30:21 - INFO  - Dictionary:__init__             - Using configuration parameters from: ../params/params.eurusd.yaml\n"
     ]
    },
    {
     "data": {
      "text/html": [
       "<div>\n",
       "<style scoped>\n",
       "    .dataframe tbody tr th:only-of-type {\n",
       "        vertical-align: middle;\n",
       "    }\n",
       "\n",
       "    .dataframe tbody tr th {\n",
       "        vertical-align: top;\n",
       "    }\n",
       "\n",
       "    .dataframe thead th {\n",
       "        text-align: right;\n",
       "    }\n",
       "</style>\n",
       "<table border=\"1\" class=\"dataframe\">\n",
       "  <thead>\n",
       "    <tr style=\"text-align: right;\">\n",
       "      <th></th>\n",
       "      <th>open</th>\n",
       "      <th>high</th>\n",
       "      <th>low</th>\n",
       "      <th>close</th>\n",
       "      <th>close_trend</th>\n",
       "      <th>med_filter</th>\n",
       "      <th>change</th>\n",
       "      <th>returns</th>\n",
       "      <th>gmf</th>\n",
       "      <th>gmf_mono</th>\n",
       "      <th>gmf_trend</th>\n",
       "    </tr>\n",
       "    <tr>\n",
       "      <th>Datetime</th>\n",
       "      <th></th>\n",
       "      <th></th>\n",
       "      <th></th>\n",
       "      <th></th>\n",
       "      <th></th>\n",
       "      <th></th>\n",
       "      <th></th>\n",
       "      <th></th>\n",
       "      <th></th>\n",
       "      <th></th>\n",
       "      <th></th>\n",
       "    </tr>\n",
       "  </thead>\n",
       "  <tbody>\n",
       "    <tr>\n",
       "      <th>2018-01-01</th>\n",
       "      <td>1.2274</td>\n",
       "      <td>1.1598</td>\n",
       "      <td>1.2794</td>\n",
       "      <td>1.2442</td>\n",
       "      <td>1.0</td>\n",
       "      <td>1.2423</td>\n",
       "      <td>0.0000</td>\n",
       "      <td>0.000000</td>\n",
       "      <td>0.001247</td>\n",
       "      <td>0.0</td>\n",
       "      <td>1.0</td>\n",
       "    </tr>\n",
       "    <tr>\n",
       "      <th>2018-01-02</th>\n",
       "      <td>1.2292</td>\n",
       "      <td>1.2731</td>\n",
       "      <td>1.2922</td>\n",
       "      <td>1.3358</td>\n",
       "      <td>1.0</td>\n",
       "      <td>1.2442</td>\n",
       "      <td>0.0916</td>\n",
       "      <td>0.073622</td>\n",
       "      <td>0.001905</td>\n",
       "      <td>0.0</td>\n",
       "      <td>1.0</td>\n",
       "    </tr>\n",
       "    <tr>\n",
       "      <th>2018-01-03</th>\n",
       "      <td>1.3218</td>\n",
       "      <td>1.2430</td>\n",
       "      <td>1.2794</td>\n",
       "      <td>1.2423</td>\n",
       "      <td>0.0</td>\n",
       "      <td>1.2753</td>\n",
       "      <td>-0.0935</td>\n",
       "      <td>-0.069996</td>\n",
       "      <td>0.003268</td>\n",
       "      <td>0.0</td>\n",
       "      <td>1.0</td>\n",
       "    </tr>\n",
       "    <tr>\n",
       "      <th>2018-01-04</th>\n",
       "      <td>1.2292</td>\n",
       "      <td>1.2873</td>\n",
       "      <td>1.2849</td>\n",
       "      <td>1.3449</td>\n",
       "      <td>1.0</td>\n",
       "      <td>1.2918</td>\n",
       "      <td>0.1026</td>\n",
       "      <td>0.082589</td>\n",
       "      <td>0.005403</td>\n",
       "      <td>0.0</td>\n",
       "      <td>1.0</td>\n",
       "    </tr>\n",
       "    <tr>\n",
       "      <th>2018-01-05</th>\n",
       "      <td>1.3309</td>\n",
       "      <td>1.2767</td>\n",
       "      <td>1.3160</td>\n",
       "      <td>1.2753</td>\n",
       "      <td>0.0</td>\n",
       "      <td>1.2753</td>\n",
       "      <td>-0.0696</td>\n",
       "      <td>-0.051751</td>\n",
       "      <td>0.008347</td>\n",
       "      <td>0.0</td>\n",
       "      <td>1.0</td>\n",
       "    </tr>\n",
       "  </tbody>\n",
       "</table>\n",
       "</div>"
      ],
      "text/plain": [
       "              open    high     low   close  close_trend  med_filter  change  \\\n",
       "Datetime                                                                      \n",
       "2018-01-01  1.2274  1.1598  1.2794  1.2442          1.0      1.2423  0.0000   \n",
       "2018-01-02  1.2292  1.2731  1.2922  1.3358          1.0      1.2442  0.0916   \n",
       "2018-01-03  1.3218  1.2430  1.2794  1.2423          0.0      1.2753 -0.0935   \n",
       "2018-01-04  1.2292  1.2873  1.2849  1.3449          1.0      1.2918  0.1026   \n",
       "2018-01-05  1.3309  1.2767  1.3160  1.2753          0.0      1.2753 -0.0696   \n",
       "\n",
       "             returns       gmf  gmf_mono  gmf_trend  \n",
       "Datetime                                             \n",
       "2018-01-01  0.000000  0.001247       0.0        1.0  \n",
       "2018-01-02  0.073622  0.001905       0.0        1.0  \n",
       "2018-01-03 -0.069996  0.003268       0.0        1.0  \n",
       "2018-01-04  0.082589  0.005403       0.0        1.0  \n",
       "2018-01-05 -0.051751  0.008347       0.0        1.0  "
      ]
     },
     "execution_count": 2,
     "metadata": {},
     "output_type": "execute_result"
    }
   ],
   "source": [
    "argv = [\n",
    "    \"\",\n",
    "    \"-c\",\n",
    "    \"../params/params.eurusd.yaml\",\n",
    "    \"-f\",\n",
    "    \"../data/EURUSD/EURUSD_2018_2020.csv\",\n",
    "    \"--window\",\n",
    "    \"14\",\n",
    "    \"--epochs\",\n",
    "    \"100\",\n",
    "    \"train\",\n",
    "]\n",
    "params = Dictionary(args=argv)\n",
    "\n",
    "\n",
    "def read_ticks():\n",
    "    global params\n",
    "\n",
    "    ticks = Ticks(params, csv_file=params.input_file).scale()\n",
    "    ticks.append_indicator([\"trend\", \"median_filter\", \"change\"])\n",
    "    ticks.append_indicator(\"gmf\", monotonic_window=7, mf_window=3, sigma=5)\n",
    "    ticks.append_indicator(\"gmf_mono\", monotonic_window=7, mf_window=3, sigma=5)\n",
    "    ticks.append_indicator(\"trend\", column_name=\"gmf\")\n",
    "    return ticks\n",
    "\n",
    "\n",
    "ticks = read_ticks()\n",
    "ticks.data.head()"
   ]
  },
  {
   "cell_type": "code",
   "execution_count": 3,
   "metadata": {
    "tags": []
   },
   "outputs": [],
   "source": [
    "# plot_marks(data=ticks.data, signal=\"close\", marks=\"gmf_mono\", dark=True)\n",
    "# plot_marks(data=ticks.data, signal=\"close\", marks=\"gmf_trend\", dark=True)\n",
    "# plot_marks(data=ticks.data, signal=\"gmf\", marks=\"gmf_mono\", dark=True)"
   ]
  },
  {
   "cell_type": "markdown",
   "metadata": {},
   "source": [
    "---\n",
    "\n",
    "# Predict CLOSE with GMF, MONOTONIC SIGN and GMF TREND\n",
    "\n",
    "```\n",
    "       _                           _                      _ \n",
    "      | |                         | |                    | |\n",
    "   ___| | ___  ___  ___           | |_ _ __ ___ _ __   __| |\n",
    "  / __| |/ _ \\/ __|/ _ \\          | __| '__/ _ \\ '_ \\ / _` |\n",
    " | (__| | (_) \\__ \\  __/          | |_| | |  __/ | | | (_| |\n",
    "  \\___|_|\\___/|___/\\___|           \\__|_|  \\___|_| |_|\\__,_|\n",
    "                          ______                            \n",
    "                         |______|                           \n",
    "```\n",
    "\n",
    "."
   ]
  },
  {
   "cell_type": "code",
   "execution_count": null,
   "metadata": {
    "pycharm": {
     "is_executing": true
    },
    "tags": []
   },
   "outputs": [],
   "source": [
    "ticks = read_ticks()\n",
    "X_train_close, y_train_close, X_test_close, y_test_close = ticks.prepare_for_training(\n",
    "    predict_column=\"close_trend\", train_columns=[\"gmf\", \"gmf_mono\", \"gmf_trend\"]\n",
    ")\n",
    "\n",
    "nn1 = lstm(params).build()\n",
    "nn1.start_training(X_train_close, y_train_close, name=None)\n",
    "yhat_close_trend, acc = nn1.evaluate(X_test_close, y_test_close)"
   ]
  },
  {
   "cell_type": "code",
   "execution_count": null,
   "metadata": {
    "pycharm": {
     "is_executing": true
    },
    "tags": []
   },
   "outputs": [],
   "source": [
    "print(nn1)\n",
    "print_bin_predictions_match(y_test_close, yhat_close_trend)"
   ]
  },
  {
   "cell_type": "markdown",
   "metadata": {},
   "source": [
    "# Save the model and the scaler!"
   ]
  },
  {
   "cell_type": "code",
   "execution_count": null,
   "metadata": {},
   "outputs": [],
   "source": [
    "params.models_dir = \"../staging/EURUSD/\"\n",
    "nn1.save()"
   ]
  },
  {
   "cell_type": "markdown",
   "metadata": {},
   "source": [
    "## Save the SCALER"
   ]
  },
  {
   "cell_type": "code",
   "execution_count": null,
   "metadata": {},
   "outputs": [],
   "source": [
    "# dataset_name = splitext(basename(params.input_file))[0]\n",
    "# ticks.save_scaler()"
   ]
  },
  {
   "cell_type": "markdown",
   "metadata": {},
   "source": [
    "## Make prediction with the loaded model"
   ]
  },
  {
   "cell_type": "code",
   "execution_count": null,
   "metadata": {},
   "outputs": [],
   "source": [
    "yhat_close_trend, acc_close_trend = nn1.evaluate(X_train_close, y_train_close)"
   ]
  },
  {
   "cell_type": "markdown",
   "metadata": {},
   "source": [
    "----\n",
    "\n",
    "# Predict GMF TREND with GMF and MONOTONIC SIGN\n",
    "\n",
    "```\n",
    "                   __            _                      _ \n",
    "                  / _|          | |                    | |\n",
    "   __ _ _ __ ___ | |_           | |_ _ __ ___ _ __   __| |\n",
    "  / _` | '_ ` _ \\|  _|          | __| '__/ _ \\ '_ \\ / _` |\n",
    " | (_| | | | | | | |            | |_| | |  __/ | | | (_| |\n",
    "  \\__, |_| |_| |_|_|             \\__|_|  \\___|_| |_|\\__,_|\n",
    "   __/ |                ______                            \n",
    "  |___/                |______|                           \n",
    "```\n",
    "\n",
    "---"
   ]
  },
  {
   "cell_type": "code",
   "execution_count": 11,
   "metadata": {},
   "outputs": [
    {
     "name": "stdout",
     "output_type": "stream",
     "text": [
      "2020-10-25 17:37:53 - INFO  - lstm:build                      - NN lstm_1layers created\n",
      "2020-10-25 17:37:53 - INFO  - lstm:start_training             - Training for 150 epochs...\n",
      "Epoch 150/150 - Acc:0.92 (↑0.94/↓0.73) - Val:0.73 (↑0.84/↓0.60) | [====================]\n",
      "WARNING:tensorflow:5 out of the last 13 calls to <function Model.make_predict_function.<locals>.predict_function at 0x152b8c7a0> triggered tf.function retracing. Tracing is expensive and the excessive number of tracings could be due to (1) creating @tf.function repeatedly in a loop, (2) passing tensors with different shapes, (3) passing Python objects instead of tensors. For (1), please define your @tf.function outside of the loop. For (2), @tf.function has experimental_relax_shapes=True option that relaxes argument shapes that can avoid unnecessary retracing. For (3), please refer to https://www.tensorflow.org/tutorials/customization/performance#python_or_tensor_args and https://www.tensorflow.org/api_docs/python/tf/function for  more details.\n",
      "3/3 [==============================] - 0s 2ms/step - loss: 0.5826 - accuracy: 0.6988\n",
      "2020-10-25 17:39:06 - INFO  - lstm:evaluate                   - Predictions (yhat): (83, 1)\n",
      "2020-10-25 17:39:06 - INFO  - lstm:evaluate                   - Accuracy: 0.70\n",
      "2020-10-25 17:39:06 - INFO  - lstm:evaluate                   - Trend acc.: 0.70\n"
     ]
    }
   ],
   "source": [
    "ticks = read_ticks()\n",
    "X_train_gmf, y_train_gmf, X_test_gmf, y_test_gmf = ticks.prepare_for_training(\n",
    "    predict_column=\"gmf_trend\", train_columns=[\"gmf\", \"gmf_mono\"]\n",
    ")\n",
    "\n",
    "nn2 = lstm(params).build()\n",
    "nn2.start_training(X_train_gmf, y_train_gmf, name=None)\n",
    "yhat, acc = nn2.evaluate(X_test_gmf, y_test_gmf)"
   ]
  },
  {
   "cell_type": "markdown",
   "metadata": {},
   "source": [
    "## Save the model"
   ]
  },
  {
   "cell_type": "code",
   "execution_count": 12,
   "metadata": {},
   "outputs": [
    {
     "name": "stdout",
     "output_type": "stream",
     "text": [
      "LSTMb_gmf_trend;1L;u28;d0.20;lr0.01;W28;E150;BS8\n",
      "\n",
      "\u001b[30m00 |\u001b[0m 0 \u001b[30m|\u001b[0m \u001b[32m0.24\u001b[0m \u001b[30m|\u001b[0m 1 \u001b[30m|\u001b[0m \u001b[31m0.24\u001b[0m \u001b[30m|\u001b[0m 1 \u001b[30m|\u001b[0m \u001b[32m0.78\u001b[0m \u001b[30m|\u001b[0m 1 \u001b[30m|\u001b[0m \u001b[32m0.97\u001b[0m \u001b[30m|\u001b[0m 1 \u001b[30m|\u001b[0m \u001b[32m0.99\u001b[0m \u001b[30m|\u001b[0m 1 \u001b[30m|\u001b[0m \u001b[32m0.99\u001b[0m \u001b[30m|\u001b[0m 1 \u001b[30m|\u001b[0m \u001b[32m0.99\u001b[0m \u001b[30m|\u001b[0m 1 \u001b[30m|\u001b[0m \u001b[32m0.98\u001b[0m \u001b[30m|\u001b[0m 1 \u001b[30m|\u001b[0m \u001b[32m0.96\u001b[0m \u001b[30m|\u001b[0m \n",
      "\u001b[30m09 |\u001b[0m 1 \u001b[30m|\u001b[0m \u001b[32m0.90\u001b[0m \u001b[30m|\u001b[0m 1 \u001b[30m|\u001b[0m \u001b[31m0.07\u001b[0m \u001b[30m|\u001b[0m 1 \u001b[30m|\u001b[0m \u001b[31m0.14\u001b[0m \u001b[30m|\u001b[0m 1 \u001b[30m|\u001b[0m \u001b[31m0.08\u001b[0m \u001b[30m|\u001b[0m 1 \u001b[30m|\u001b[0m \u001b[31m0.18\u001b[0m \u001b[30m|\u001b[0m 1 \u001b[30m|\u001b[0m \u001b[31m0.08\u001b[0m \u001b[30m|\u001b[0m 1 \u001b[30m|\u001b[0m \u001b[31m0.10\u001b[0m \u001b[30m|\u001b[0m 1 \u001b[30m|\u001b[0m \u001b[31m0.15\u001b[0m \u001b[30m|\u001b[0m 1 \u001b[30m|\u001b[0m \u001b[31m0.07\u001b[0m \u001b[30m|\u001b[0m \n",
      "\u001b[30m18 |\u001b[0m 1 \u001b[30m|\u001b[0m \u001b[31m0.10\u001b[0m \u001b[30m|\u001b[0m 1 \u001b[30m|\u001b[0m \u001b[31m0.26\u001b[0m \u001b[30m|\u001b[0m 1 \u001b[30m|\u001b[0m \u001b[31m0.09\u001b[0m \u001b[30m|\u001b[0m 1 \u001b[30m|\u001b[0m \u001b[31m0.31\u001b[0m \u001b[30m|\u001b[0m 1 \u001b[30m|\u001b[0m \u001b[31m0.24\u001b[0m \u001b[30m|\u001b[0m 1 \u001b[30m|\u001b[0m \u001b[31m0.34\u001b[0m \u001b[30m|\u001b[0m 1 \u001b[30m|\u001b[0m \u001b[31m0.30\u001b[0m \u001b[30m|\u001b[0m 1 \u001b[30m|\u001b[0m \u001b[31m0.25\u001b[0m \u001b[30m|\u001b[0m 1 \u001b[30m|\u001b[0m \u001b[31m0.22\u001b[0m \u001b[30m|\u001b[0m \n",
      "\u001b[30m27 |\u001b[0m 1 \u001b[30m|\u001b[0m \u001b[31m0.19\u001b[0m \u001b[30m|\u001b[0m 1 \u001b[30m|\u001b[0m \u001b[31m0.19\u001b[0m \u001b[30m|\u001b[0m 1 \u001b[30m|\u001b[0m \u001b[31m0.40\u001b[0m \u001b[30m|\u001b[0m 1 \u001b[30m|\u001b[0m \u001b[31m0.29\u001b[0m \u001b[30m|\u001b[0m 1 \u001b[30m|\u001b[0m \u001b[31m0.18\u001b[0m \u001b[30m|\u001b[0m 1 \u001b[30m|\u001b[0m \u001b[31m0.12\u001b[0m \u001b[30m|\u001b[0m 1 \u001b[30m|\u001b[0m \u001b[31m0.10\u001b[0m \u001b[30m|\u001b[0m 0 \u001b[30m|\u001b[0m \u001b[32m0.09\u001b[0m \u001b[30m|\u001b[0m 0 \u001b[30m|\u001b[0m \u001b[32m0.03\u001b[0m \u001b[30m|\u001b[0m \n",
      "\u001b[30m36 |\u001b[0m 0 \u001b[30m|\u001b[0m \u001b[32m0.01\u001b[0m \u001b[30m|\u001b[0m 0 \u001b[30m|\u001b[0m \u001b[32m0.01\u001b[0m \u001b[30m|\u001b[0m 0 \u001b[30m|\u001b[0m \u001b[32m0.00\u001b[0m \u001b[30m|\u001b[0m 0 \u001b[30m|\u001b[0m \u001b[32m0.00\u001b[0m \u001b[30m|\u001b[0m 0 \u001b[30m|\u001b[0m \u001b[32m0.00\u001b[0m \u001b[30m|\u001b[0m 0 \u001b[30m|\u001b[0m \u001b[32m0.00\u001b[0m \u001b[30m|\u001b[0m 0 \u001b[30m|\u001b[0m \u001b[32m0.00\u001b[0m \u001b[30m|\u001b[0m 0 \u001b[30m|\u001b[0m \u001b[32m0.00\u001b[0m \u001b[30m|\u001b[0m 0 \u001b[30m|\u001b[0m \u001b[32m0.00\u001b[0m \u001b[30m|\u001b[0m \n",
      "\u001b[30m45 |\u001b[0m 0 \u001b[30m|\u001b[0m \u001b[32m0.00\u001b[0m \u001b[30m|\u001b[0m 0 \u001b[30m|\u001b[0m \u001b[32m0.00\u001b[0m \u001b[30m|\u001b[0m 0 \u001b[30m|\u001b[0m \u001b[32m0.00\u001b[0m \u001b[30m|\u001b[0m 0 \u001b[30m|\u001b[0m \u001b[32m0.00\u001b[0m \u001b[30m|\u001b[0m 0 \u001b[30m|\u001b[0m \u001b[32m0.01\u001b[0m \u001b[30m|\u001b[0m 0 \u001b[30m|\u001b[0m \u001b[32m0.01\u001b[0m \u001b[30m|\u001b[0m 0 \u001b[30m|\u001b[0m \u001b[32m0.01\u001b[0m \u001b[30m|\u001b[0m 0 \u001b[30m|\u001b[0m \u001b[32m0.01\u001b[0m \u001b[30m|\u001b[0m 0 \u001b[30m|\u001b[0m \u001b[32m0.01\u001b[0m \u001b[30m|\u001b[0m \n",
      "\u001b[30m54 |\u001b[0m 0 \u001b[30m|\u001b[0m \u001b[32m0.01\u001b[0m \u001b[30m|\u001b[0m 0 \u001b[30m|\u001b[0m \u001b[32m0.01\u001b[0m \u001b[30m|\u001b[0m 0 \u001b[30m|\u001b[0m \u001b[32m0.01\u001b[0m \u001b[30m|\u001b[0m 0 \u001b[30m|\u001b[0m \u001b[32m0.01\u001b[0m \u001b[30m|\u001b[0m 0 \u001b[30m|\u001b[0m \u001b[32m0.02\u001b[0m \u001b[30m|\u001b[0m 0 \u001b[30m|\u001b[0m \u001b[32m0.02\u001b[0m \u001b[30m|\u001b[0m 0 \u001b[30m|\u001b[0m \u001b[32m0.02\u001b[0m \u001b[30m|\u001b[0m 0 \u001b[30m|\u001b[0m \u001b[32m0.02\u001b[0m \u001b[30m|\u001b[0m 0 \u001b[30m|\u001b[0m \u001b[32m0.03\u001b[0m \u001b[30m|\u001b[0m \n",
      "\u001b[30m63 |\u001b[0m 0 \u001b[30m|\u001b[0m \u001b[32m0.03\u001b[0m \u001b[30m|\u001b[0m 0 \u001b[30m|\u001b[0m \u001b[32m0.03\u001b[0m \u001b[30m|\u001b[0m 0 \u001b[30m|\u001b[0m \u001b[32m0.04\u001b[0m \u001b[30m|\u001b[0m 0 \u001b[30m|\u001b[0m \u001b[32m0.04\u001b[0m \u001b[30m|\u001b[0m 0 \u001b[30m|\u001b[0m \u001b[32m0.04\u001b[0m \u001b[30m|\u001b[0m 0 \u001b[30m|\u001b[0m \u001b[32m0.05\u001b[0m \u001b[30m|\u001b[0m 0 \u001b[30m|\u001b[0m \u001b[32m0.05\u001b[0m \u001b[30m|\u001b[0m 0 \u001b[30m|\u001b[0m \u001b[32m0.05\u001b[0m \u001b[30m|\u001b[0m 0 \u001b[30m|\u001b[0m \u001b[32m0.05\u001b[0m \u001b[30m|\u001b[0m \n",
      "\u001b[30m72 |\u001b[0m 0 \u001b[30m|\u001b[0m \u001b[32m0.06\u001b[0m \u001b[30m|\u001b[0m 0 \u001b[30m|\u001b[0m \u001b[32m0.06\u001b[0m \u001b[30m|\u001b[0m 0 \u001b[30m|\u001b[0m \u001b[32m0.07\u001b[0m \u001b[30m|\u001b[0m 0 \u001b[30m|\u001b[0m \u001b[32m0.08\u001b[0m \u001b[30m|\u001b[0m 0 \u001b[30m|\u001b[0m \u001b[32m0.10\u001b[0m \u001b[30m|\u001b[0m 0 \u001b[30m|\u001b[0m \u001b[32m0.14\u001b[0m \u001b[30m|\u001b[0m 0 \u001b[30m|\u001b[0m \u001b[32m0.21\u001b[0m \u001b[30m|\u001b[0m 0 \u001b[30m|\u001b[0m \u001b[32m0.28\u001b[0m \u001b[30m|\u001b[0m 0 \u001b[30m|\u001b[0m \u001b[32m0.25\u001b[0m \u001b[30m|\u001b[0m \n",
      "\u001b[30m81 |\u001b[0m 0 \u001b[30m|\u001b[0m \u001b[32m0.14\u001b[0m \u001b[30m|\u001b[0m 0 \u001b[30m|\u001b[0m \u001b[32m0.07\u001b[0m \u001b[30m|\u001b[0m \u001b[37m\n",
      "\u001b[0m\n",
      "filepath = ../staging/EURUSD/\n",
      "output_filepath: ../staging/EURUSD/LSTMb_gmf_trend;1L;u28;d0.20;lr0.01;W28;E150;BS8\n",
      "2020-10-25 17:39:06 - INFO  - lstm:save                       - ../staging/EURUSD/LSTMb_gmf_trend;1L;u28;d0.20;lr0.01;W28;E150;BS8\n",
      "2020-10-25 17:39:06 - INFO  - lstm:save                       - Saved model and weights (../staging/EURUSD/LSTMb_gmf_trend;1L;u28;d0.20;lr0.01;W28;E150;BS8)\n"
     ]
    }
   ],
   "source": [
    "print(nn2)\n",
    "print_bin_predictions_match(y_test_gmf, yhat)\n",
    "\n",
    "nn2.save()"
   ]
  },
  {
   "cell_type": "markdown",
   "metadata": {},
   "source": [
    "----\n",
    "\n",
    "# Predict GMF MONO with GMF and GMF_TREND\n",
    "\n",
    "```\n",
    "                   __                                        \n",
    "                  / _|                                       \n",
    "   __ _ _ __ ___ | |_            _ __ ___   ___  _ __   ___  \n",
    "  / _` | '_ ` _ \\|  _|          | '_ ` _ \\ / _ \\| '_ \\ / _ \\ \n",
    " | (_| | | | | | | |            | | | | | | (_) | | | | (_) |\n",
    "  \\__, |_| |_| |_|_|            |_| |_| |_|\\___/|_| |_|\\___/ \n",
    "   __/ |                ______                               \n",
    "  |___/                |______|                             \n",
    "```\n",
    "\n",
    ".."
   ]
  },
  {
   "cell_type": "code",
   "execution_count": null,
   "metadata": {},
   "outputs": [],
   "source": [
    "ticks = read_ticks()\n",
    "params.epochs = 100\n",
    "params.window_size = 42\n",
    "\n",
    "X_train, y_train, X_test, y_test = ticks.prepare_for_training(\n",
    "    predict_column=\"gmf_mono\", train_columns=[\"gmf\", \"gmf_trend\"]\n",
    ")\n",
    "\n",
    "nn3 = lstm(params).build()\n",
    "print(nn3)\n",
    "nn3.start_training(X_train, y_train, name=None)\n",
    "yhat, acc = nn3.evaluate(X_test, y_test)"
   ]
  },
  {
   "cell_type": "markdown",
   "metadata": {},
   "source": [
    "## Save the model"
   ]
  },
  {
   "cell_type": "code",
   "execution_count": null,
   "metadata": {},
   "outputs": [],
   "source": [
    "print_bin_predictions_match(y_test, yhat)\n",
    "# nn3.save()"
   ]
  },
  {
   "cell_type": "markdown",
   "metadata": {},
   "source": [
    "## Evaluate on training"
   ]
  },
  {
   "cell_type": "code",
   "execution_count": null,
   "metadata": {},
   "outputs": [],
   "source": [
    "yhat3, acc3 = nn3.evaluate(X_train , y_train)"
   ]
  },
  {
   "cell_type": "markdown",
   "metadata": {},
   "source": [
    "---\n",
    "\n",
    "# Ensemble of the output from the two networkss\n",
    "\n",
    "```\n",
    "                                _     _         _______      ____  __ \n",
    "                               | |   | |       / ____\\ \\    / /  \\/  |\n",
    "   ___ _ __  ___  ___ _ __ ___ | |__ | | ___  | (___  \\ \\  / /| \\  / |\n",
    "  / _ \\ '_ \\/ __|/ _ \\ '_ ` _ \\| '_ \\| |/ _ \\  \\___ \\  \\ \\/ / | |\\/| |\n",
    " |  __/ | | \\__ \\  __/ | | | | | |_) | |  __/  ____) |  \\  /  | |  | |\n",
    "  \\___|_| |_|___/\\___|_| |_| |_|_.__/|_|\\___| |_____/    \\/   |_|  |_|\n",
    "                                                                      \n",
    "                                                                      \n",
    "```\n",
    "."
   ]
  },
  {
   "cell_type": "code",
   "execution_count": null,
   "metadata": {},
   "outputs": [],
   "source": [
    "import pandas as pd\n",
    "\n",
    "ensemble = pd.DataFrame(\n",
    "    {\n",
    "        \"yhat_close\": yhat_close_trend.reshape(-1,),\n",
    "        \"yhat_gmf\": yhat_gmf_trend.reshape(-1,),\n",
    "        \"y_close\": y_train_close.reshape(-1,),\n",
    "        \"y_gmf\": y_train_gmf.reshape(-1,),\n",
    "    }\n",
    ")\n",
    "ensemble.head()"
   ]
  },
  {
   "cell_type": "markdown",
   "metadata": {},
   "source": [
    "Entrenar la SVM con los datos usados para el entrenamiento de las LSTM, pero hacer la validación con los datos de test."
   ]
  },
  {
   "cell_type": "code",
   "execution_count": null,
   "metadata": {},
   "outputs": [],
   "source": [
    "from sklearn.svm import SVC\n",
    "from sklearn.model_selection import train_test_split\n",
    "from sklearn.metrics import classification_report, confusion_matrix\n",
    "\n",
    "svclassifier = SVC(kernel=\"rbf\")\n",
    "svclassifier.fit(X, y)\n",
    "\n",
    "yhat_close_test, _ = nn1.evaluate(X_test_close, y_test_gmf)\n",
    "yhat_gmf_test, _ = nn2.evaluate(X_test_gmf, y_test_gmf)\n",
    "\n",
    "X_test = pd.DataFrame(\n",
    "    {\n",
    "        \"yhat_close\": yhat_close_test.reshape(-1,),\n",
    "        \"yhat_gmf\": yhat_gmf_test.reshape(-1,),\n",
    "    }\n",
    ")\n",
    "y_test = y_test_close.reshape(-1,)"
   ]
  },
  {
   "cell_type": "code",
   "execution_count": null,
   "metadata": {},
   "outputs": [],
   "source": [
    "y_pred = svclassifier.predict(X_test)\n",
    "print(confusion_matrix(y_test, y_pred))\n",
    "print(classification_report(y_test, y_pred))"
   ]
  }
 ],
 "metadata": {
  "kernelspec": {
   "display_name": "Python 3",
   "language": "python",
   "name": "python3"
  },
  "language_info": {
   "codemirror_mode": {
    "name": "ipython",
    "version": 3
   },
   "file_extension": ".py",
   "mimetype": "text/x-python",
   "name": "python",
   "nbconvert_exporter": "python",
   "pygments_lexer": "ipython3",
   "version": "3.7.8"
  }
 },
 "nbformat": 4,
 "nbformat_minor": 4
}

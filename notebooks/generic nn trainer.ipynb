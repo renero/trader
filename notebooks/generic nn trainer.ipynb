{
 "cells": [
  {
   "cell_type": "markdown",
   "metadata": {},
   "source": [
    "# Generic NN trainer"
   ]
  },
  {
   "cell_type": "code",
   "execution_count": 1,
   "metadata": {},
   "outputs": [],
   "source": [
    "import sys\n",
    "\n",
    "import warnings\n",
    "\n",
    "warnings.filterwarnings(\"ignore\", category=DeprecationWarning)\n",
    "warnings.simplefilter(\"ignore\")\n",
    "\n",
    "%load_ext lab_black\n",
    "\n",
    "sys.path.append(\"/Users/renero/Documents/SideProjects/trader/src\")\n",
    "sys.path.append(\"/Users/renero/Documents/SideProjects/trader/src/predictor\")\n",
    "\n",
    "\n",
    "from dictionary import Dictionary\n",
    "from lstm import lstm\n",
    "from predictor.ticks import Ticks\n",
    "from utils.utils import print_bin_predictions_match\n",
    "from utils.plot_utils import plot_marks"
   ]
  },
  {
   "cell_type": "markdown",
   "metadata": {},
   "source": [
    "## Setup the generic parameters for the trainer"
   ]
  },
  {
   "cell_type": "code",
   "execution_count": 2,
   "metadata": {
    "tags": []
   },
   "outputs": [
    {
     "name": "stdout",
     "output_type": "stream",
     "text": [
      "2020-10-21 12:50:18 - INFO  - Dictionary:__init__             - Using configuration parameters from: ../params/params.eurusd.yaml\n"
     ]
    },
    {
     "data": {
      "text/html": [
       "<div>\n",
       "<style scoped>\n",
       "    .dataframe tbody tr th:only-of-type {\n",
       "        vertical-align: middle;\n",
       "    }\n",
       "\n",
       "    .dataframe tbody tr th {\n",
       "        vertical-align: top;\n",
       "    }\n",
       "\n",
       "    .dataframe thead th {\n",
       "        text-align: right;\n",
       "    }\n",
       "</style>\n",
       "<table border=\"1\" class=\"dataframe\">\n",
       "  <thead>\n",
       "    <tr style=\"text-align: right;\">\n",
       "      <th></th>\n",
       "      <th>open</th>\n",
       "      <th>high</th>\n",
       "      <th>low</th>\n",
       "      <th>close</th>\n",
       "      <th>close_trend</th>\n",
       "      <th>med_filter</th>\n",
       "      <th>change</th>\n",
       "      <th>returns</th>\n",
       "      <th>gmf</th>\n",
       "      <th>gmf_mono</th>\n",
       "      <th>gmf_trend</th>\n",
       "    </tr>\n",
       "    <tr>\n",
       "      <th>Datetime</th>\n",
       "      <th></th>\n",
       "      <th></th>\n",
       "      <th></th>\n",
       "      <th></th>\n",
       "      <th></th>\n",
       "      <th></th>\n",
       "      <th></th>\n",
       "      <th></th>\n",
       "      <th></th>\n",
       "      <th></th>\n",
       "      <th></th>\n",
       "    </tr>\n",
       "  </thead>\n",
       "  <tbody>\n",
       "    <tr>\n",
       "      <th>2018-01-01</th>\n",
       "      <td>1.2274</td>\n",
       "      <td>1.1598</td>\n",
       "      <td>1.2794</td>\n",
       "      <td>1.2442</td>\n",
       "      <td>1.0</td>\n",
       "      <td>1.2423</td>\n",
       "      <td>0.0000</td>\n",
       "      <td>0.000000</td>\n",
       "      <td>0.001247</td>\n",
       "      <td>0.0</td>\n",
       "      <td>1.0</td>\n",
       "    </tr>\n",
       "    <tr>\n",
       "      <th>2018-01-02</th>\n",
       "      <td>1.2292</td>\n",
       "      <td>1.2731</td>\n",
       "      <td>1.2922</td>\n",
       "      <td>1.3358</td>\n",
       "      <td>1.0</td>\n",
       "      <td>1.2442</td>\n",
       "      <td>0.0916</td>\n",
       "      <td>0.073622</td>\n",
       "      <td>0.001905</td>\n",
       "      <td>0.0</td>\n",
       "      <td>1.0</td>\n",
       "    </tr>\n",
       "    <tr>\n",
       "      <th>2018-01-03</th>\n",
       "      <td>1.3218</td>\n",
       "      <td>1.2430</td>\n",
       "      <td>1.2794</td>\n",
       "      <td>1.2423</td>\n",
       "      <td>0.0</td>\n",
       "      <td>1.2753</td>\n",
       "      <td>-0.0935</td>\n",
       "      <td>-0.069996</td>\n",
       "      <td>0.003268</td>\n",
       "      <td>0.0</td>\n",
       "      <td>1.0</td>\n",
       "    </tr>\n",
       "    <tr>\n",
       "      <th>2018-01-04</th>\n",
       "      <td>1.2292</td>\n",
       "      <td>1.2873</td>\n",
       "      <td>1.2849</td>\n",
       "      <td>1.3449</td>\n",
       "      <td>1.0</td>\n",
       "      <td>1.2918</td>\n",
       "      <td>0.1026</td>\n",
       "      <td>0.082589</td>\n",
       "      <td>0.005403</td>\n",
       "      <td>0.0</td>\n",
       "      <td>1.0</td>\n",
       "    </tr>\n",
       "    <tr>\n",
       "      <th>2018-01-05</th>\n",
       "      <td>1.3309</td>\n",
       "      <td>1.2767</td>\n",
       "      <td>1.3160</td>\n",
       "      <td>1.2753</td>\n",
       "      <td>0.0</td>\n",
       "      <td>1.2753</td>\n",
       "      <td>-0.0696</td>\n",
       "      <td>-0.051751</td>\n",
       "      <td>0.008347</td>\n",
       "      <td>0.0</td>\n",
       "      <td>1.0</td>\n",
       "    </tr>\n",
       "  </tbody>\n",
       "</table>\n",
       "</div>"
      ],
      "text/plain": [
       "              open    high     low   close  close_trend  med_filter  change  \\\n",
       "Datetime                                                                      \n",
       "2018-01-01  1.2274  1.1598  1.2794  1.2442          1.0      1.2423  0.0000   \n",
       "2018-01-02  1.2292  1.2731  1.2922  1.3358          1.0      1.2442  0.0916   \n",
       "2018-01-03  1.3218  1.2430  1.2794  1.2423          0.0      1.2753 -0.0935   \n",
       "2018-01-04  1.2292  1.2873  1.2849  1.3449          1.0      1.2918  0.1026   \n",
       "2018-01-05  1.3309  1.2767  1.3160  1.2753          0.0      1.2753 -0.0696   \n",
       "\n",
       "             returns       gmf  gmf_mono  gmf_trend  \n",
       "Datetime                                             \n",
       "2018-01-01  0.000000  0.001247       0.0        1.0  \n",
       "2018-01-02  0.073622  0.001905       0.0        1.0  \n",
       "2018-01-03 -0.069996  0.003268       0.0        1.0  \n",
       "2018-01-04  0.082589  0.005403       0.0        1.0  \n",
       "2018-01-05 -0.051751  0.008347       0.0        1.0  "
      ]
     },
     "execution_count": 2,
     "metadata": {},
     "output_type": "execute_result"
    }
   ],
   "source": [
    "argv = [\n",
    "    \"\",\n",
    "    \"-c\",\n",
    "    \"../params/params.eurusd.yaml\",\n",
    "    \"-f\",\n",
    "    \"../data/EURUSD/EURUSD_2018_2020.csv\",\n",
    "    \"--window\",\n",
    "    \"14\",\n",
    "    \"--epochs\",\n",
    "    \"100\",\n",
    "    \"train\",\n",
    "]\n",
    "params = Dictionary(args=argv)\n",
    "\n",
    "\n",
    "def read_ticks():\n",
    "    global params\n",
    "\n",
    "    ticks = Ticks(params, csv_file=params.input_file).scale()\n",
    "    ticks.append_indicator([\"trend\", \"median_filter\", \"change\"])\n",
    "    ticks.append_indicator(\"gmf\", monotonic_window=7, mf_window=3, sigma=5)\n",
    "    ticks.append_indicator(\"gmf_mono\", monotonic_window=7, mf_window=3, sigma=5)\n",
    "    ticks.append_indicator(\"trend\", column_name=\"gmf\")\n",
    "    return ticks\n",
    "\n",
    "\n",
    "ticks = read_ticks()\n",
    "ticks.data.head()"
   ]
  },
  {
   "cell_type": "code",
   "execution_count": 3,
   "metadata": {
    "tags": []
   },
   "outputs": [],
   "source": [
    "# plot_marks(data=ticks.data, signal=\"close\", marks=\"gmf_mono\", dark=True)\n",
    "#\n",
    "# plot_marks(data=ticks.data, signal=\"gmf\", marks=\"gmf_mono\", dark=True)"
   ]
  },
  {
   "cell_type": "markdown",
   "metadata": {},
   "source": [
    "# Train a network to predict CLOSE with GMF, MONOTONIC SIGN and GMF TREND"
   ]
  },
  {
   "cell_type": "code",
   "execution_count": 4,
   "metadata": {
    "pycharm": {
     "is_executing": true
    },
    "tags": []
   },
   "outputs": [],
   "source": [
    "ticks = read_ticks()\n",
    "params.epochs = 150\n",
    "\n",
    "X_train_close, y_train_close, X_test_close, y_test_close = ticks.prepare_for_training(\n",
    "    predict=\"close_trend\", train_columns=[\"gmf\", \"gmf_mono\", \"gmf_trend\"]\n",
    ")"
   ]
  },
  {
   "cell_type": "code",
   "execution_count": 26,
   "metadata": {
    "pycharm": {
     "is_executing": true
    },
    "tags": []
   },
   "outputs": [
    {
     "name": "stdout",
     "output_type": "stream",
     "text": [
      "2020-10-20 19:10:54 - INFO  - lstm:build                      - NN lstm_1layers created\n",
      "2020-10-20 19:10:54 - INFO  - lstm:start_training             - Training for 150 epochs...\n",
      "Epoch 150/150 - Acc:0.67 (↑0.71/↓0.57) - Val:0.62 (↑0.72/↓0.55) | [====================]\n",
      "3/3 [==============================] - 0s 1ms/step - loss: 0.7871 - accuracy: 0.6310\n",
      "2020-10-20 19:11:29 - INFO  - lstm:evaluate                   - Predictions (yhat): (84, 1)\n",
      "2020-10-20 19:11:29 - INFO  - lstm:evaluate                   - Accuracy: 0.63\n",
      "2020-10-20 19:11:29 - INFO  - lstm:evaluate                   - Trend acc.: 0.63\n"
     ]
    }
   ],
   "source": [
    "nn1 = lstm(params).build()\n",
    "nn1.start_training(X_train_close, y_train_close, name=None)\n",
    "yhat_close_trend, acc = nn1.evaluate(X_test_close, y_test_close)"
   ]
  },
  {
   "cell_type": "code",
   "execution_count": 28,
   "metadata": {
    "pycharm": {
     "is_executing": true
    },
    "tags": []
   },
   "outputs": [
    {
     "name": "stdout",
     "output_type": "stream",
     "text": [
      "LSTMb(1l;28u;d=0.20;lr=0.01;[W=14;E=150;BS=8])\n",
      "\n",
      "\u001b[30m00 |\u001b[0m 0 \u001b[30m|\u001b[0m \u001b[32m0.47\u001b[0m \u001b[30m|\u001b[0m 0 \u001b[30m|\u001b[0m \u001b[32m0.44\u001b[0m \u001b[30m|\u001b[0m 0 \u001b[30m|\u001b[0m \u001b[32m0.40\u001b[0m \u001b[30m|\u001b[0m 1 \u001b[30m|\u001b[0m \u001b[31m0.05\u001b[0m \u001b[30m|\u001b[0m 1 \u001b[30m|\u001b[0m \u001b[31m0.18\u001b[0m \u001b[30m|\u001b[0m 1 \u001b[30m|\u001b[0m \u001b[31m0.18\u001b[0m \u001b[30m|\u001b[0m 0 \u001b[30m|\u001b[0m \u001b[31m0.94\u001b[0m \u001b[30m|\u001b[0m 0 \u001b[30m|\u001b[0m \u001b[32m0.43\u001b[0m \u001b[30m|\u001b[0m 0 \u001b[30m|\u001b[0m \u001b[32m0.37\u001b[0m \u001b[30m|\u001b[0m \n",
      "\u001b[30m09 |\u001b[0m 1 \u001b[30m|\u001b[0m \u001b[32m0.55\u001b[0m \u001b[30m|\u001b[0m 1 \u001b[30m|\u001b[0m \u001b[32m0.72\u001b[0m \u001b[30m|\u001b[0m 0 \u001b[30m|\u001b[0m \u001b[31m0.80\u001b[0m \u001b[30m|\u001b[0m 1 \u001b[30m|\u001b[0m \u001b[32m0.70\u001b[0m \u001b[30m|\u001b[0m 0 \u001b[30m|\u001b[0m \u001b[31m0.57\u001b[0m \u001b[30m|\u001b[0m 1 \u001b[30m|\u001b[0m \u001b[31m0.46\u001b[0m \u001b[30m|\u001b[0m 1 \u001b[30m|\u001b[0m \u001b[32m0.66\u001b[0m \u001b[30m|\u001b[0m 1 \u001b[30m|\u001b[0m \u001b[32m0.76\u001b[0m \u001b[30m|\u001b[0m 0 \u001b[30m|\u001b[0m \u001b[31m0.73\u001b[0m \u001b[30m|\u001b[0m \n",
      "\u001b[30m18 |\u001b[0m 1 \u001b[30m|\u001b[0m \u001b[32m0.66\u001b[0m \u001b[30m|\u001b[0m 0 \u001b[30m|\u001b[0m \u001b[31m0.62\u001b[0m \u001b[30m|\u001b[0m 1 \u001b[30m|\u001b[0m \u001b[32m0.62\u001b[0m \u001b[30m|\u001b[0m 1 \u001b[30m|\u001b[0m \u001b[32m0.65\u001b[0m \u001b[30m|\u001b[0m 1 \u001b[30m|\u001b[0m \u001b[32m0.67\u001b[0m \u001b[30m|\u001b[0m 1 \u001b[30m|\u001b[0m \u001b[32m0.68\u001b[0m \u001b[30m|\u001b[0m 1 \u001b[30m|\u001b[0m \u001b[32m0.69\u001b[0m \u001b[30m|\u001b[0m 0 \u001b[30m|\u001b[0m \u001b[31m0.70\u001b[0m \u001b[30m|\u001b[0m 1 \u001b[30m|\u001b[0m \u001b[32m0.70\u001b[0m \u001b[30m|\u001b[0m \n",
      "\u001b[30m27 |\u001b[0m 1 \u001b[30m|\u001b[0m \u001b[32m0.71\u001b[0m \u001b[30m|\u001b[0m 1 \u001b[30m|\u001b[0m \u001b[32m0.72\u001b[0m \u001b[30m|\u001b[0m 1 \u001b[30m|\u001b[0m \u001b[32m0.73\u001b[0m \u001b[30m|\u001b[0m 1 \u001b[30m|\u001b[0m \u001b[32m0.74\u001b[0m \u001b[30m|\u001b[0m 1 \u001b[30m|\u001b[0m \u001b[32m0.75\u001b[0m \u001b[30m|\u001b[0m 1 \u001b[30m|\u001b[0m \u001b[32m0.75\u001b[0m \u001b[30m|\u001b[0m 0 \u001b[30m|\u001b[0m \u001b[31m0.76\u001b[0m \u001b[30m|\u001b[0m 1 \u001b[30m|\u001b[0m \u001b[32m0.76\u001b[0m \u001b[30m|\u001b[0m 0 \u001b[30m|\u001b[0m \u001b[31m0.76\u001b[0m \u001b[30m|\u001b[0m \n",
      "\u001b[30m36 |\u001b[0m 1 \u001b[30m|\u001b[0m \u001b[32m0.82\u001b[0m \u001b[30m|\u001b[0m 1 \u001b[30m|\u001b[0m \u001b[32m0.86\u001b[0m \u001b[30m|\u001b[0m 0 \u001b[30m|\u001b[0m \u001b[31m0.95\u001b[0m \u001b[30m|\u001b[0m 1 \u001b[30m|\u001b[0m \u001b[32m0.97\u001b[0m \u001b[30m|\u001b[0m 0 \u001b[30m|\u001b[0m \u001b[31m0.97\u001b[0m \u001b[30m|\u001b[0m 1 \u001b[30m|\u001b[0m \u001b[32m0.97\u001b[0m \u001b[30m|\u001b[0m 1 \u001b[30m|\u001b[0m \u001b[32m0.91\u001b[0m \u001b[30m|\u001b[0m 1 \u001b[30m|\u001b[0m \u001b[32m0.53\u001b[0m \u001b[30m|\u001b[0m 0 \u001b[30m|\u001b[0m \u001b[31m0.58\u001b[0m \u001b[30m|\u001b[0m \n",
      "\u001b[30m45 |\u001b[0m 0 \u001b[30m|\u001b[0m \u001b[31m0.92\u001b[0m \u001b[30m|\u001b[0m 0 \u001b[30m|\u001b[0m \u001b[31m0.88\u001b[0m \u001b[30m|\u001b[0m 0 \u001b[30m|\u001b[0m \u001b[31m0.84\u001b[0m \u001b[30m|\u001b[0m 1 \u001b[30m|\u001b[0m \u001b[32m0.74\u001b[0m \u001b[30m|\u001b[0m 1 \u001b[30m|\u001b[0m \u001b[32m0.81\u001b[0m \u001b[30m|\u001b[0m 1 \u001b[30m|\u001b[0m \u001b[32m0.87\u001b[0m \u001b[30m|\u001b[0m 1 \u001b[30m|\u001b[0m \u001b[32m0.85\u001b[0m \u001b[30m|\u001b[0m 1 \u001b[30m|\u001b[0m \u001b[32m0.81\u001b[0m \u001b[30m|\u001b[0m 1 \u001b[30m|\u001b[0m \u001b[32m0.81\u001b[0m \u001b[30m|\u001b[0m \n",
      "\u001b[30m54 |\u001b[0m 0 \u001b[30m|\u001b[0m \u001b[31m0.79\u001b[0m \u001b[30m|\u001b[0m 1 \u001b[30m|\u001b[0m \u001b[32m0.78\u001b[0m \u001b[30m|\u001b[0m 0 \u001b[30m|\u001b[0m \u001b[31m0.76\u001b[0m \u001b[30m|\u001b[0m 1 \u001b[30m|\u001b[0m \u001b[32m0.74\u001b[0m \u001b[30m|\u001b[0m 0 \u001b[30m|\u001b[0m \u001b[31m0.72\u001b[0m \u001b[30m|\u001b[0m 1 \u001b[30m|\u001b[0m \u001b[32m0.71\u001b[0m \u001b[30m|\u001b[0m 1 \u001b[30m|\u001b[0m \u001b[32m0.70\u001b[0m \u001b[30m|\u001b[0m 0 \u001b[30m|\u001b[0m \u001b[31m0.70\u001b[0m \u001b[30m|\u001b[0m 1 \u001b[30m|\u001b[0m \u001b[32m0.69\u001b[0m \u001b[30m|\u001b[0m \n",
      "\u001b[30m63 |\u001b[0m 1 \u001b[30m|\u001b[0m \u001b[32m0.69\u001b[0m \u001b[30m|\u001b[0m 1 \u001b[30m|\u001b[0m \u001b[32m0.69\u001b[0m \u001b[30m|\u001b[0m 0 \u001b[30m|\u001b[0m \u001b[31m0.68\u001b[0m \u001b[30m|\u001b[0m 0 \u001b[30m|\u001b[0m \u001b[31m0.66\u001b[0m \u001b[30m|\u001b[0m 0 \u001b[30m|\u001b[0m \u001b[31m0.65\u001b[0m \u001b[30m|\u001b[0m 0 \u001b[30m|\u001b[0m \u001b[31m0.63\u001b[0m \u001b[30m|\u001b[0m 0 \u001b[30m|\u001b[0m \u001b[31m0.62\u001b[0m \u001b[30m|\u001b[0m 0 \u001b[30m|\u001b[0m \u001b[31m0.60\u001b[0m \u001b[30m|\u001b[0m 0 \u001b[30m|\u001b[0m \u001b[31m0.59\u001b[0m \u001b[30m|\u001b[0m \n",
      "\u001b[30m72 |\u001b[0m 1 \u001b[30m|\u001b[0m \u001b[32m0.58\u001b[0m \u001b[30m|\u001b[0m 1 \u001b[30m|\u001b[0m \u001b[32m0.55\u001b[0m \u001b[30m|\u001b[0m 1 \u001b[30m|\u001b[0m \u001b[32m0.50\u001b[0m \u001b[30m|\u001b[0m 0 \u001b[30m|\u001b[0m \u001b[32m0.45\u001b[0m \u001b[30m|\u001b[0m 1 \u001b[30m|\u001b[0m \u001b[31m0.41\u001b[0m \u001b[30m|\u001b[0m 0 \u001b[30m|\u001b[0m \u001b[32m0.37\u001b[0m \u001b[30m|\u001b[0m 0 \u001b[30m|\u001b[0m \u001b[32m0.33\u001b[0m \u001b[30m|\u001b[0m 1 \u001b[30m|\u001b[0m \u001b[31m0.30\u001b[0m \u001b[30m|\u001b[0m 0 \u001b[30m|\u001b[0m \u001b[32m0.26\u001b[0m \u001b[30m|\u001b[0m \n",
      "\u001b[30m81 |\u001b[0m 0 \u001b[30m|\u001b[0m \u001b[32m0.23\u001b[0m \u001b[30m|\u001b[0m 0 \u001b[30m|\u001b[0m \u001b[32m0.21\u001b[0m \u001b[30m|\u001b[0m 0 \u001b[30m|\u001b[0m \u001b[32m0.19\u001b[0m \u001b[30m|\u001b[0m \u001b[37m\n",
      "\u001b[0m\n"
     ]
    }
   ],
   "source": [
    "print(nn1)\n",
    "print_bin_predictions_match(y_test_close, yhat_close_trend)"
   ]
  },
  {
   "cell_type": "markdown",
   "metadata": {},
   "source": [
    "# Save the model and the scaler!"
   ]
  },
  {
   "cell_type": "code",
   "execution_count": 29,
   "metadata": {},
   "outputs": [
    {
     "name": "stdout",
     "output_type": "stream",
     "text": [
      "2020-10-20 19:11:50 - INFO  - lstm:save                       - Saved model and weights (../staging/EURUSD/EURUSD_2018_2020_w14_e150)\n"
     ]
    }
   ],
   "source": [
    "params.models_dir = \"../staging/EURUSD/\"\n",
    "nn1.save()"
   ]
  },
  {
   "cell_type": "code",
   "execution_count": 4,
   "metadata": {},
   "outputs": [
    {
     "ename": "NameError",
     "evalue": "name 'nn1' is not defined",
     "output_type": "error",
     "traceback": [
      "\u001b[0;31m---------------------------------------------------------------------------\u001b[0m",
      "\u001b[0;31mNameError\u001b[0m                                 Traceback (most recent call last)",
      "\u001b[0;32m<ipython-input-4-e804ea314dee>\u001b[0m in \u001b[0;36m<module>\u001b[0;34m\u001b[0m\n\u001b[0;32m----> 1\u001b[0;31m \u001b[0mstr\u001b[0m\u001b[0;34m(\u001b[0m\u001b[0mnn1\u001b[0m\u001b[0;34m)\u001b[0m\u001b[0;34m\u001b[0m\u001b[0;34m\u001b[0m\u001b[0m\n\u001b[0m",
      "\u001b[0;31mNameError\u001b[0m: name 'nn1' is not defined"
     ]
    }
   ],
   "source": [
    "print(nn1)"
   ]
  },
  {
   "cell_type": "code",
   "execution_count": 5,
   "metadata": {},
   "outputs": [
    {
     "name": "stdout",
     "output_type": "stream",
     "text": [
      "RobustScaler saved at: ../staging/EURUSD/scaler_EURUSD_2018_2020.bin\n"
     ]
    }
   ],
   "source": [
    "from os.path import splitext, basename\n",
    "\n",
    "dataset_name = splitext(basename(params.input_file))[0]\n",
    "ticks.save_scaler()"
   ]
  },
  {
   "cell_type": "markdown",
   "metadata": {},
   "source": [
    "## Load it all!"
   ]
  },
  {
   "cell_type": "code",
   "execution_count": 10,
   "metadata": {},
   "outputs": [
    {
     "name": "stdout",
     "output_type": "stream",
     "text": [
      "[Determinism: Random seeds reset]\n",
      "3/3 [==============================] - 0s 2ms/step - loss: 0.7902 - accuracy: 0.5542\n",
      "2020-10-15 10:05:08 - INFO  - lstm:evaluate                   - Predictions (yhat): (83, 1)\n",
      "2020-10-15 10:05:08 - INFO  - lstm:evaluate                   - Accuracy: 0.55\n",
      "2020-10-15 10:05:08 - INFO  - lstm:evaluate                   - Trend acc.: 0.55\n",
      "\n",
      "\u001b[30m00 |\u001b[0m 0 \u001b[30m|\u001b[0m \u001b[32m0.44\u001b[0m \u001b[30m|\u001b[0m 0 \u001b[30m|\u001b[0m \u001b[31m0.65\u001b[0m \u001b[30m|\u001b[0m 1 \u001b[30m|\u001b[0m \u001b[31m0.43\u001b[0m \u001b[30m|\u001b[0m 1 \u001b[30m|\u001b[0m \u001b[31m0.14\u001b[0m \u001b[30m|\u001b[0m 1 \u001b[30m|\u001b[0m \u001b[31m0.49\u001b[0m \u001b[30m|\u001b[0m 0 \u001b[30m|\u001b[0m \u001b[31m0.92\u001b[0m \u001b[30m|\u001b[0m 0 \u001b[30m|\u001b[0m \u001b[31m0.93\u001b[0m \u001b[30m|\u001b[0m 0 \u001b[30m|\u001b[0m \u001b[31m0.64\u001b[0m \u001b[30m|\u001b[0m 1 \u001b[30m|\u001b[0m \u001b[31m0.33\u001b[0m \u001b[30m|\u001b[0m \n",
      "\u001b[30m09 |\u001b[0m 1 \u001b[30m|\u001b[0m \u001b[31m0.45\u001b[0m \u001b[30m|\u001b[0m 0 \u001b[30m|\u001b[0m \u001b[31m0.83\u001b[0m \u001b[30m|\u001b[0m 1 \u001b[30m|\u001b[0m \u001b[32m0.62\u001b[0m \u001b[30m|\u001b[0m 0 \u001b[30m|\u001b[0m \u001b[32m0.42\u001b[0m \u001b[30m|\u001b[0m 1 \u001b[30m|\u001b[0m \u001b[32m0.51\u001b[0m \u001b[30m|\u001b[0m 1 \u001b[30m|\u001b[0m \u001b[32m0.70\u001b[0m \u001b[30m|\u001b[0m 1 \u001b[30m|\u001b[0m \u001b[32m0.81\u001b[0m \u001b[30m|\u001b[0m 0 \u001b[30m|\u001b[0m \u001b[31m0.76\u001b[0m \u001b[30m|\u001b[0m 1 \u001b[30m|\u001b[0m \u001b[32m0.67\u001b[0m \u001b[30m|\u001b[0m \n",
      "\u001b[30m18 |\u001b[0m 0 \u001b[30m|\u001b[0m \u001b[31m0.65\u001b[0m \u001b[30m|\u001b[0m 1 \u001b[30m|\u001b[0m \u001b[32m0.69\u001b[0m \u001b[30m|\u001b[0m 1 \u001b[30m|\u001b[0m \u001b[32m0.73\u001b[0m \u001b[30m|\u001b[0m 1 \u001b[30m|\u001b[0m \u001b[32m0.75\u001b[0m \u001b[30m|\u001b[0m 1 \u001b[30m|\u001b[0m \u001b[32m0.74\u001b[0m \u001b[30m|\u001b[0m 1 \u001b[30m|\u001b[0m \u001b[32m0.74\u001b[0m \u001b[30m|\u001b[0m 0 \u001b[30m|\u001b[0m \u001b[31m0.75\u001b[0m \u001b[30m|\u001b[0m 1 \u001b[30m|\u001b[0m \u001b[32m0.76\u001b[0m \u001b[30m|\u001b[0m 1 \u001b[30m|\u001b[0m \u001b[32m0.78\u001b[0m \u001b[30m|\u001b[0m \n",
      "\u001b[30m27 |\u001b[0m 1 \u001b[30m|\u001b[0m \u001b[32m0.79\u001b[0m \u001b[30m|\u001b[0m 1 \u001b[30m|\u001b[0m \u001b[32m0.80\u001b[0m \u001b[30m|\u001b[0m 1 \u001b[30m|\u001b[0m \u001b[32m0.81\u001b[0m \u001b[30m|\u001b[0m 1 \u001b[30m|\u001b[0m \u001b[32m0.82\u001b[0m \u001b[30m|\u001b[0m 1 \u001b[30m|\u001b[0m \u001b[32m0.83\u001b[0m \u001b[30m|\u001b[0m 0 \u001b[30m|\u001b[0m \u001b[31m0.84\u001b[0m \u001b[30m|\u001b[0m 1 \u001b[30m|\u001b[0m \u001b[32m0.85\u001b[0m \u001b[30m|\u001b[0m 0 \u001b[30m|\u001b[0m \u001b[31m0.85\u001b[0m \u001b[30m|\u001b[0m 1 \u001b[30m|\u001b[0m \u001b[32m0.80\u001b[0m \u001b[30m|\u001b[0m \n",
      "\u001b[30m36 |\u001b[0m 1 \u001b[30m|\u001b[0m \u001b[32m0.80\u001b[0m \u001b[30m|\u001b[0m 0 \u001b[30m|\u001b[0m \u001b[31m0.86\u001b[0m \u001b[30m|\u001b[0m 1 \u001b[30m|\u001b[0m \u001b[32m0.90\u001b[0m \u001b[30m|\u001b[0m 0 \u001b[30m|\u001b[0m \u001b[31m0.90\u001b[0m \u001b[30m|\u001b[0m 1 \u001b[30m|\u001b[0m \u001b[32m0.85\u001b[0m \u001b[30m|\u001b[0m 1 \u001b[30m|\u001b[0m \u001b[31m0.32\u001b[0m \u001b[30m|\u001b[0m 1 \u001b[30m|\u001b[0m \u001b[31m0.47\u001b[0m \u001b[30m|\u001b[0m 0 \u001b[30m|\u001b[0m \u001b[31m0.63\u001b[0m \u001b[30m|\u001b[0m 0 \u001b[30m|\u001b[0m \u001b[32m0.05\u001b[0m \u001b[30m|\u001b[0m \n",
      "\u001b[30m45 |\u001b[0m 0 \u001b[30m|\u001b[0m \u001b[32m0.15\u001b[0m \u001b[30m|\u001b[0m 0 \u001b[30m|\u001b[0m \u001b[31m0.77\u001b[0m \u001b[30m|\u001b[0m 1 \u001b[30m|\u001b[0m \u001b[32m0.62\u001b[0m \u001b[30m|\u001b[0m 1 \u001b[30m|\u001b[0m \u001b[31m0.03\u001b[0m \u001b[30m|\u001b[0m 1 \u001b[30m|\u001b[0m \u001b[32m0.76\u001b[0m \u001b[30m|\u001b[0m 1 \u001b[30m|\u001b[0m \u001b[32m0.79\u001b[0m \u001b[30m|\u001b[0m 1 \u001b[30m|\u001b[0m \u001b[32m0.91\u001b[0m \u001b[30m|\u001b[0m 1 \u001b[30m|\u001b[0m \u001b[32m0.90\u001b[0m \u001b[30m|\u001b[0m 0 \u001b[30m|\u001b[0m \u001b[31m0.59\u001b[0m \u001b[30m|\u001b[0m \n",
      "\u001b[30m54 |\u001b[0m 1 \u001b[30m|\u001b[0m \u001b[32m0.52\u001b[0m \u001b[30m|\u001b[0m 0 \u001b[30m|\u001b[0m \u001b[32m0.48\u001b[0m \u001b[30m|\u001b[0m 1 \u001b[30m|\u001b[0m \u001b[32m0.57\u001b[0m \u001b[30m|\u001b[0m 0 \u001b[30m|\u001b[0m \u001b[31m0.50\u001b[0m \u001b[30m|\u001b[0m 1 \u001b[30m|\u001b[0m \u001b[31m0.31\u001b[0m \u001b[30m|\u001b[0m 1 \u001b[30m|\u001b[0m \u001b[31m0.30\u001b[0m \u001b[30m|\u001b[0m 0 \u001b[30m|\u001b[0m \u001b[32m0.30\u001b[0m \u001b[30m|\u001b[0m 1 \u001b[30m|\u001b[0m \u001b[31m0.30\u001b[0m \u001b[30m|\u001b[0m 1 \u001b[30m|\u001b[0m \u001b[31m0.29\u001b[0m \u001b[30m|\u001b[0m \n",
      "\u001b[30m63 |\u001b[0m 1 \u001b[30m|\u001b[0m \u001b[31m0.28\u001b[0m \u001b[30m|\u001b[0m 0 \u001b[30m|\u001b[0m \u001b[32m0.27\u001b[0m \u001b[30m|\u001b[0m 0 \u001b[30m|\u001b[0m \u001b[32m0.27\u001b[0m \u001b[30m|\u001b[0m 0 \u001b[30m|\u001b[0m \u001b[32m0.25\u001b[0m \u001b[30m|\u001b[0m 0 \u001b[30m|\u001b[0m \u001b[32m0.25\u001b[0m \u001b[30m|\u001b[0m 0 \u001b[30m|\u001b[0m \u001b[32m0.25\u001b[0m \u001b[30m|\u001b[0m 0 \u001b[30m|\u001b[0m \u001b[32m0.25\u001b[0m \u001b[30m|\u001b[0m 0 \u001b[30m|\u001b[0m \u001b[32m0.25\u001b[0m \u001b[30m|\u001b[0m 1 \u001b[30m|\u001b[0m \u001b[31m0.25\u001b[0m \u001b[30m|\u001b[0m \n",
      "\u001b[30m72 |\u001b[0m 1 \u001b[30m|\u001b[0m \u001b[31m0.25\u001b[0m \u001b[30m|\u001b[0m 1 \u001b[30m|\u001b[0m \u001b[31m0.25\u001b[0m \u001b[30m|\u001b[0m 0 \u001b[30m|\u001b[0m \u001b[32m0.26\u001b[0m \u001b[30m|\u001b[0m 1 \u001b[30m|\u001b[0m \u001b[31m0.26\u001b[0m \u001b[30m|\u001b[0m 0 \u001b[30m|\u001b[0m \u001b[32m0.28\u001b[0m \u001b[30m|\u001b[0m 0 \u001b[30m|\u001b[0m \u001b[32m0.32\u001b[0m \u001b[30m|\u001b[0m 1 \u001b[30m|\u001b[0m \u001b[31m0.39\u001b[0m \u001b[30m|\u001b[0m 0 \u001b[30m|\u001b[0m \u001b[32m0.46\u001b[0m \u001b[30m|\u001b[0m 0 \u001b[30m|\u001b[0m \u001b[31m0.53\u001b[0m \u001b[30m|\u001b[0m \n",
      "\u001b[30m81 |\u001b[0m 0 \u001b[30m|\u001b[0m \u001b[31m0.56\u001b[0m \u001b[30m|\u001b[0m 0 \u001b[30m|\u001b[0m \u001b[31m0.57\u001b[0m \u001b[30m|\u001b[0m \u001b[37m\n",
      "\u001b[0m\n"
     ]
    }
   ],
   "source": [
    "kk = lstm(params).load(\"EURUSD_2018_2020_w28_e160\")\n",
    "\n",
    "yhat_close_trend, acc = kk.evaluate(X_test_close, y_test_close)\n",
    "print_bin_predictions_match(y_test_close, yhat_close_trend)"
   ]
  },
  {
   "cell_type": "code",
   "execution_count": 11,
   "metadata": {},
   "outputs": [
    {
     "name": "stdout",
     "output_type": "stream",
     "text": [
      "LSTMb(1l;28u;d=0.20;lr=0.01;[W=28;E=160;BS=16])\n"
     ]
    }
   ],
   "source": [
    "print(kk)"
   ]
  },
  {
   "cell_type": "markdown",
   "metadata": {},
   "source": [
    "## Make prediction with the loaded model"
   ]
  },
  {
   "cell_type": "code",
   "execution_count": 8,
   "metadata": {},
   "outputs": [
    {
     "name": "stdout",
     "output_type": "stream",
     "text": [
      "24/24 [==============================] - 0s 2ms/step - loss: 0.5680 - accuracy: 0.6945\n",
      "2020-10-13 20:26:53 - INFO  - lstm:evaluate                   - Predictions (yhat): (743, 1)\n",
      "2020-10-13 20:26:53 - INFO  - lstm:evaluate                   - Accuracy: 0.69\n",
      "2020-10-13 20:26:53 - INFO  - lstm:evaluate                   - Trend acc.: 0.69\n"
     ]
    }
   ],
   "source": [
    "yhat_close_trend, acc_close_trend = nn1.evaluate(X_train_close, y_train_close)"
   ]
  },
  {
   "cell_type": "markdown",
   "metadata": {},
   "source": [
    "----\n",
    "\n",
    "# Train another network to predict GMF TREND with GMF and MONOTONIC SIGN"
   ]
  },
  {
   "cell_type": "code",
   "execution_count": 128,
   "metadata": {},
   "outputs": [
    {
     "name": "stdout",
     "output_type": "stream",
     "text": [
      "[Determinism: Random seeds reset]\n",
      "[Determinism: Random seeds reset]\n",
      "2020-10-07 19:39:51 - INFO  - lstm:_build_model               - NN lstm_1layers created\n",
      "2020-10-07 19:39:51 - INFO  - lstm:start_training             - Training for 100 epochs...\n",
      "Epoch 100/100 - Acc:0.91 (↑0.92/↓0.69) - Val:0.75 (↑0.89/↓0.63) | [====================]\n",
      "3/3 [==============================] - 0s 2ms/step - loss: 0.2732 - accuracy: 0.9405\n",
      "2020-10-07 19:40:38 - INFO  - lstm:evaluate                   - Predictions (yhat): (84, 1)\n",
      "2020-10-07 19:40:38 - INFO  - lstm:evaluate                   - Accuracy: 0.94\n",
      "2020-10-07 19:40:38 - INFO  - lstm:evaluate                   - Trend acc.: 0.94\n",
      "LSTMb(1l. 42u. d=0.10 lr=0.01 [W=14 E=100 BS=8])\n",
      "\n",
      "\u001b[30m00 |\u001b[0m 0 \u001b[30m|\u001b[0m \u001b[32m0.06\u001b[0m \u001b[30m|\u001b[0m 0 \u001b[30m|\u001b[0m \u001b[32m0.14\u001b[0m \u001b[30m|\u001b[0m 1 \u001b[30m|\u001b[0m \u001b[31m0.18\u001b[0m \u001b[30m|\u001b[0m 1 \u001b[30m|\u001b[0m \u001b[32m0.99\u001b[0m \u001b[30m|\u001b[0m 1 \u001b[30m|\u001b[0m \u001b[32m1.00\u001b[0m \u001b[30m|\u001b[0m 1 \u001b[30m|\u001b[0m \u001b[32m1.00\u001b[0m \u001b[30m|\u001b[0m 1 \u001b[30m|\u001b[0m \u001b[32m1.00\u001b[0m \u001b[30m|\u001b[0m 1 \u001b[30m|\u001b[0m \u001b[32m0.70\u001b[0m \u001b[30m|\u001b[0m 1 \u001b[30m|\u001b[0m \u001b[32m0.69\u001b[0m \u001b[30m|\u001b[0m \n",
      "\u001b[30m09 |\u001b[0m 1 \u001b[30m|\u001b[0m \u001b[32m0.87\u001b[0m \u001b[30m|\u001b[0m 1 \u001b[30m|\u001b[0m \u001b[32m0.90\u001b[0m \u001b[30m|\u001b[0m 1 \u001b[30m|\u001b[0m \u001b[32m0.55\u001b[0m \u001b[30m|\u001b[0m 1 \u001b[30m|\u001b[0m \u001b[32m0.89\u001b[0m \u001b[30m|\u001b[0m 1 \u001b[30m|\u001b[0m \u001b[32m0.62\u001b[0m \u001b[30m|\u001b[0m 1 \u001b[30m|\u001b[0m \u001b[32m0.84\u001b[0m \u001b[30m|\u001b[0m 1 \u001b[30m|\u001b[0m \u001b[32m0.71\u001b[0m \u001b[30m|\u001b[0m 1 \u001b[30m|\u001b[0m \u001b[32m0.85\u001b[0m \u001b[30m|\u001b[0m 1 \u001b[30m|\u001b[0m \u001b[32m0.64\u001b[0m \u001b[30m|\u001b[0m \n",
      "\u001b[30m18 |\u001b[0m 1 \u001b[30m|\u001b[0m \u001b[32m0.74\u001b[0m \u001b[30m|\u001b[0m 1 \u001b[30m|\u001b[0m \u001b[32m0.64\u001b[0m \u001b[30m|\u001b[0m 1 \u001b[30m|\u001b[0m \u001b[32m0.64\u001b[0m \u001b[30m|\u001b[0m 1 \u001b[30m|\u001b[0m \u001b[32m0.62\u001b[0m \u001b[30m|\u001b[0m 1 \u001b[30m|\u001b[0m \u001b[32m0.62\u001b[0m \u001b[30m|\u001b[0m 1 \u001b[30m|\u001b[0m \u001b[32m0.62\u001b[0m \u001b[30m|\u001b[0m 1 \u001b[30m|\u001b[0m \u001b[32m0.62\u001b[0m \u001b[30m|\u001b[0m 1 \u001b[30m|\u001b[0m \u001b[32m0.62\u001b[0m \u001b[30m|\u001b[0m 1 \u001b[30m|\u001b[0m \u001b[32m0.62\u001b[0m \u001b[30m|\u001b[0m \n",
      "\u001b[30m27 |\u001b[0m 1 \u001b[30m|\u001b[0m \u001b[32m0.62\u001b[0m \u001b[30m|\u001b[0m 1 \u001b[30m|\u001b[0m \u001b[32m0.62\u001b[0m \u001b[30m|\u001b[0m 1 \u001b[30m|\u001b[0m \u001b[32m0.62\u001b[0m \u001b[30m|\u001b[0m 1 \u001b[30m|\u001b[0m \u001b[32m0.61\u001b[0m \u001b[30m|\u001b[0m 1 \u001b[30m|\u001b[0m \u001b[32m0.61\u001b[0m \u001b[30m|\u001b[0m 1 \u001b[30m|\u001b[0m \u001b[32m0.61\u001b[0m \u001b[30m|\u001b[0m 1 \u001b[30m|\u001b[0m \u001b[32m0.61\u001b[0m \u001b[30m|\u001b[0m 1 \u001b[30m|\u001b[0m \u001b[32m0.61\u001b[0m \u001b[30m|\u001b[0m 0 \u001b[30m|\u001b[0m \u001b[31m0.61\u001b[0m \u001b[30m|\u001b[0m \n",
      "\u001b[30m36 |\u001b[0m 0 \u001b[30m|\u001b[0m \u001b[32m0.03\u001b[0m \u001b[30m|\u001b[0m 0 \u001b[30m|\u001b[0m \u001b[32m0.00\u001b[0m \u001b[30m|\u001b[0m 0 \u001b[30m|\u001b[0m \u001b[32m0.00\u001b[0m \u001b[30m|\u001b[0m 0 \u001b[30m|\u001b[0m \u001b[32m0.03\u001b[0m \u001b[30m|\u001b[0m 0 \u001b[30m|\u001b[0m \u001b[32m0.03\u001b[0m \u001b[30m|\u001b[0m 0 \u001b[30m|\u001b[0m \u001b[32m0.04\u001b[0m \u001b[30m|\u001b[0m 0 \u001b[30m|\u001b[0m \u001b[32m0.00\u001b[0m \u001b[30m|\u001b[0m 0 \u001b[30m|\u001b[0m \u001b[32m0.00\u001b[0m \u001b[30m|\u001b[0m 0 \u001b[30m|\u001b[0m \u001b[32m0.00\u001b[0m \u001b[30m|\u001b[0m \n",
      "\u001b[30m45 |\u001b[0m 0 \u001b[30m|\u001b[0m \u001b[32m0.01\u001b[0m \u001b[30m|\u001b[0m 0 \u001b[30m|\u001b[0m \u001b[32m0.01\u001b[0m \u001b[30m|\u001b[0m 0 \u001b[30m|\u001b[0m \u001b[32m0.01\u001b[0m \u001b[30m|\u001b[0m 0 \u001b[30m|\u001b[0m \u001b[32m0.02\u001b[0m \u001b[30m|\u001b[0m 0 \u001b[30m|\u001b[0m \u001b[32m0.01\u001b[0m \u001b[30m|\u001b[0m 0 \u001b[30m|\u001b[0m \u001b[32m0.01\u001b[0m \u001b[30m|\u001b[0m 0 \u001b[30m|\u001b[0m \u001b[32m0.01\u001b[0m \u001b[30m|\u001b[0m 0 \u001b[30m|\u001b[0m \u001b[32m0.02\u001b[0m \u001b[30m|\u001b[0m 0 \u001b[30m|\u001b[0m \u001b[32m0.02\u001b[0m \u001b[30m|\u001b[0m \n",
      "\u001b[30m54 |\u001b[0m 0 \u001b[30m|\u001b[0m \u001b[32m0.04\u001b[0m \u001b[30m|\u001b[0m 0 \u001b[30m|\u001b[0m \u001b[32m0.14\u001b[0m \u001b[30m|\u001b[0m 0 \u001b[30m|\u001b[0m \u001b[32m0.14\u001b[0m \u001b[30m|\u001b[0m 0 \u001b[30m|\u001b[0m \u001b[32m0.15\u001b[0m \u001b[30m|\u001b[0m 0 \u001b[30m|\u001b[0m \u001b[32m0.15\u001b[0m \u001b[30m|\u001b[0m 0 \u001b[30m|\u001b[0m \u001b[32m0.15\u001b[0m \u001b[30m|\u001b[0m 0 \u001b[30m|\u001b[0m \u001b[32m0.16\u001b[0m \u001b[30m|\u001b[0m 0 \u001b[30m|\u001b[0m \u001b[32m0.16\u001b[0m \u001b[30m|\u001b[0m 0 \u001b[30m|\u001b[0m \u001b[32m0.16\u001b[0m \u001b[30m|\u001b[0m \n",
      "\u001b[30m63 |\u001b[0m 0 \u001b[30m|\u001b[0m \u001b[32m0.16\u001b[0m \u001b[30m|\u001b[0m 0 \u001b[30m|\u001b[0m \u001b[32m0.16\u001b[0m \u001b[30m|\u001b[0m 0 \u001b[30m|\u001b[0m \u001b[32m0.16\u001b[0m \u001b[30m|\u001b[0m 0 \u001b[30m|\u001b[0m \u001b[32m0.17\u001b[0m \u001b[30m|\u001b[0m 0 \u001b[30m|\u001b[0m \u001b[32m0.17\u001b[0m \u001b[30m|\u001b[0m 0 \u001b[30m|\u001b[0m \u001b[32m0.17\u001b[0m \u001b[30m|\u001b[0m 0 \u001b[30m|\u001b[0m \u001b[32m0.17\u001b[0m \u001b[30m|\u001b[0m 0 \u001b[30m|\u001b[0m \u001b[32m0.18\u001b[0m \u001b[30m|\u001b[0m 0 \u001b[30m|\u001b[0m \u001b[32m0.18\u001b[0m \u001b[30m|\u001b[0m \n",
      "\u001b[30m72 |\u001b[0m 0 \u001b[30m|\u001b[0m \u001b[32m0.18\u001b[0m \u001b[30m|\u001b[0m 0 \u001b[30m|\u001b[0m \u001b[32m0.19\u001b[0m \u001b[30m|\u001b[0m 0 \u001b[30m|\u001b[0m \u001b[32m0.19\u001b[0m \u001b[30m|\u001b[0m 0 \u001b[30m|\u001b[0m \u001b[32m0.20\u001b[0m \u001b[30m|\u001b[0m 0 \u001b[30m|\u001b[0m \u001b[32m0.21\u001b[0m \u001b[30m|\u001b[0m 0 \u001b[30m|\u001b[0m \u001b[32m0.23\u001b[0m \u001b[30m|\u001b[0m 0 \u001b[30m|\u001b[0m \u001b[32m0.27\u001b[0m \u001b[30m|\u001b[0m 0 \u001b[30m|\u001b[0m \u001b[32m0.34\u001b[0m \u001b[30m|\u001b[0m 0 \u001b[30m|\u001b[0m \u001b[32m0.43\u001b[0m \u001b[30m|\u001b[0m \n",
      "\u001b[30m81 |\u001b[0m 0 \u001b[30m|\u001b[0m \u001b[31m0.54\u001b[0m \u001b[30m|\u001b[0m 0 \u001b[30m|\u001b[0m \u001b[31m0.63\u001b[0m \u001b[30m|\u001b[0m 0 \u001b[30m|\u001b[0m \u001b[31m0.68\u001b[0m \u001b[30m|\u001b[0m \u001b[37m\n",
      "\u001b[0m\n"
     ]
    }
   ],
   "source": [
    "ticks = read_ticks()\n",
    "params.epochs = 100\n",
    "X_train_gmf, y_train_gmf, X_test_gmf, y_test_gmf = ticks.prepare_for_training(\n",
    "    predict=\"gmf_trend\", train_columns=[\"gmf\", \"gmf_mono\"]\n",
    ")\n",
    "\n",
    "nn2 = lstm(params, binary=True)\n",
    "nn2.start_training(X_train_gmf, y_train_gmf, name=None)\n",
    "yhat, acc = nn2.evaluate(X_test_gmf, y_test_gmf)\n",
    "\n",
    "print(nn2)\n",
    "print_bin_predictions_match(y_test_gmf, yhat_gmf_trend)"
   ]
  },
  {
   "cell_type": "code",
   "execution_count": 134,
   "metadata": {},
   "outputs": [
    {
     "name": "stdout",
     "output_type": "stream",
     "text": [
      "24/24 [==============================] - 0s 2ms/step - loss: 0.2890 - accuracy: 0.9101\n",
      "2020-10-07 19:42:18 - INFO  - lstm:evaluate                   - Predictions (yhat): (756, 1)\n",
      "2020-10-07 19:42:18 - INFO  - lstm:evaluate                   - Accuracy: 0.91\n",
      "2020-10-07 19:42:18 - INFO  - lstm:evaluate                   - Trend acc.: 0.91\n"
     ]
    }
   ],
   "source": [
    "yhat_gmf_trend, acc_gmf_trend = nn2.evaluate(X_train_gmf, y_train_gmf)"
   ]
  },
  {
   "cell_type": "markdown",
   "metadata": {},
   "source": [
    "# Ensemble of the output from the two networkss"
   ]
  },
  {
   "cell_type": "code",
   "execution_count": 136,
   "metadata": {},
   "outputs": [
    {
     "data": {
      "text/html": [
       "<div>\n",
       "<style scoped>\n",
       "    .dataframe tbody tr th:only-of-type {\n",
       "        vertical-align: middle;\n",
       "    }\n",
       "\n",
       "    .dataframe tbody tr th {\n",
       "        vertical-align: top;\n",
       "    }\n",
       "\n",
       "    .dataframe thead th {\n",
       "        text-align: right;\n",
       "    }\n",
       "</style>\n",
       "<table border=\"1\" class=\"dataframe\">\n",
       "  <thead>\n",
       "    <tr style=\"text-align: right;\">\n",
       "      <th></th>\n",
       "      <th>yhat_close</th>\n",
       "      <th>yhat_gmf</th>\n",
       "      <th>y_close</th>\n",
       "      <th>y_gmf</th>\n",
       "    </tr>\n",
       "  </thead>\n",
       "  <tbody>\n",
       "    <tr>\n",
       "      <th>0</th>\n",
       "      <td>0.816025</td>\n",
       "      <td>0.617519</td>\n",
       "      <td>0.0</td>\n",
       "      <td>1.0</td>\n",
       "    </tr>\n",
       "    <tr>\n",
       "      <th>1</th>\n",
       "      <td>0.814545</td>\n",
       "      <td>0.629542</td>\n",
       "      <td>1.0</td>\n",
       "      <td>1.0</td>\n",
       "    </tr>\n",
       "    <tr>\n",
       "      <th>2</th>\n",
       "      <td>0.783705</td>\n",
       "      <td>0.604789</td>\n",
       "      <td>0.0</td>\n",
       "      <td>0.0</td>\n",
       "    </tr>\n",
       "    <tr>\n",
       "      <th>3</th>\n",
       "      <td>0.846610</td>\n",
       "      <td>0.025967</td>\n",
       "      <td>1.0</td>\n",
       "      <td>0.0</td>\n",
       "    </tr>\n",
       "    <tr>\n",
       "      <th>4</th>\n",
       "      <td>0.874096</td>\n",
       "      <td>0.001961</td>\n",
       "      <td>1.0</td>\n",
       "      <td>0.0</td>\n",
       "    </tr>\n",
       "  </tbody>\n",
       "</table>\n",
       "</div>"
      ],
      "text/plain": [
       "   yhat_close  yhat_gmf  y_close  y_gmf\n",
       "0    0.816025  0.617519      0.0    1.0\n",
       "1    0.814545  0.629542      1.0    1.0\n",
       "2    0.783705  0.604789      0.0    0.0\n",
       "3    0.846610  0.025967      1.0    0.0\n",
       "4    0.874096  0.001961      1.0    0.0"
      ]
     },
     "execution_count": 136,
     "metadata": {},
     "output_type": "execute_result"
    }
   ],
   "source": [
    "import pandas as pd\n",
    "\n",
    "ensemble = pd.DataFrame(\n",
    "    {\n",
    "        \"yhat_close\": yhat_close_trend.reshape(-1,),\n",
    "        \"yhat_gmf\": yhat_gmf_trend.reshape(-1,),\n",
    "        \"y_close\": y_train_close.reshape(-1,),\n",
    "        \"y_gmf\": y_train_gmf.reshape(-1,),\n",
    "    }\n",
    ")\n",
    "ensemble.head()"
   ]
  },
  {
   "cell_type": "markdown",
   "metadata": {},
   "source": [
    "Entrenar la SVM con los datos usados para el entrenamiento de las LSTM, pero hacer la validación con los datos de test."
   ]
  },
  {
   "cell_type": "code",
   "execution_count": 149,
   "metadata": {},
   "outputs": [
    {
     "name": "stdout",
     "output_type": "stream",
     "text": [
      "3/3 [==============================] - 0s 2ms/step - loss: 0.9058 - accuracy: 0.5357\n",
      "2020-10-07 19:51:13 - INFO  - lstm:evaluate                   - Predictions (yhat): (84, 1)\n",
      "2020-10-07 19:51:13 - INFO  - lstm:evaluate                   - Accuracy: 0.54\n",
      "2020-10-07 19:51:13 - INFO  - lstm:evaluate                   - Trend acc.: 0.55\n",
      "3/3 [==============================] - 0s 1ms/step - loss: 0.2732 - accuracy: 0.9405\n",
      "2020-10-07 19:51:13 - INFO  - lstm:evaluate                   - Predictions (yhat): (84, 1)\n",
      "2020-10-07 19:51:13 - INFO  - lstm:evaluate                   - Accuracy: 0.94\n",
      "2020-10-07 19:51:13 - INFO  - lstm:evaluate                   - Trend acc.: 0.94\n"
     ]
    }
   ],
   "source": [
    "from sklearn.svm import SVC\n",
    "from sklearn.model_selection import train_test_split\n",
    "from sklearn.metrics import classification_report, confusion_matrix\n",
    "\n",
    "svclassifier = SVC(kernel=\"rbf\")\n",
    "svclassifier.fit(X, y)\n",
    "\n",
    "yhat_close_test, _ = nn1.evaluate(X_test_close, y_test_gmf)\n",
    "yhat_gmf_test, _ = nn2.evaluate(X_test_gmf, y_test_gmf)\n",
    "\n",
    "X_test = pd.DataFrame(\n",
    "    {\n",
    "        \"yhat_close\": yhat_close_test.reshape(-1,),\n",
    "        \"yhat_gmf\": yhat_gmf_test.reshape(-1,),\n",
    "    }\n",
    ")\n",
    "y_test = y_test_close.reshape(-1,)"
   ]
  },
  {
   "cell_type": "code",
   "execution_count": 150,
   "metadata": {},
   "outputs": [
    {
     "name": "stdout",
     "output_type": "stream",
     "text": [
      "[[16 21]\n",
      " [14 33]]\n",
      "              precision    recall  f1-score   support\n",
      "\n",
      "         0.0       0.53      0.43      0.48        37\n",
      "         1.0       0.61      0.70      0.65        47\n",
      "\n",
      "    accuracy                           0.58        84\n",
      "   macro avg       0.57      0.57      0.57        84\n",
      "weighted avg       0.58      0.58      0.58        84\n",
      "\n"
     ]
    }
   ],
   "source": [
    "y_pred = svclassifier.predict(X_test)\n",
    "print(confusion_matrix(y_test, y_pred))\n",
    "print(classification_report(y_test, y_pred))"
   ]
  },
  {
   "cell_type": "code",
   "execution_count": null,
   "metadata": {},
   "outputs": [],
   "source": []
  }
 ],
 "metadata": {
  "kernelspec": {
   "display_name": "Python 3",
   "language": "python",
   "name": "python3"
  },
  "language_info": {
   "codemirror_mode": {
    "name": "ipython",
    "version": 3
   },
   "file_extension": ".py",
   "mimetype": "text/x-python",
   "name": "python",
   "nbconvert_exporter": "python",
   "pygments_lexer": "ipython3",
   "version": "3.7.8"
  }
 },
 "nbformat": 4,
 "nbformat_minor": 4
}

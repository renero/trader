{
 "cells": [
  {
   "cell_type": "markdown",
   "metadata": {},
   "source": [
    "# Generic NN trainer"
   ]
  },
  {
   "cell_type": "code",
   "execution_count": 3,
   "metadata": {},
   "outputs": [
    {
     "name": "stdout",
     "output_type": "stream",
     "text": [
      "The lab_black extension is already loaded. To reload it, use:\n",
      "  %reload_ext lab_black\n"
     ]
    }
   ],
   "source": [
    "import matplotlib.pyplot as plt\n",
    "import matplotlib.dates as mdates\n",
    "import mlflow\n",
    "import mlflow.keras\n",
    "import numpy as np\n",
    "from numpy import ndarray\n",
    "import pandas as pd\n",
    "from scipy.signal import medfilt\n",
    "from scipy.ndimage.filters import gaussian_filter1d\n",
    "import sys\n",
    "\n",
    "import warnings\n",
    "\n",
    "warnings.filterwarnings(\"ignore\", category=DeprecationWarning)\n",
    "\n",
    "import tensorflow as tf\n",
    "\n",
    "%load_ext lab_black\n",
    "\n",
    "sys.path.append(\"/Users/renero/Documents/SideProjects/trader/src\")\n",
    "sys.path.append(\"/Users/renero/Documents/SideProjects/trader/src/predictor\")\n",
    "sys.path.append(\"/Users/renero/Documents/SideProjects/trader/src/utils\")\n",
    "sys.path.append(\"/Users/renero/Documents/SideProjects/trader/src/indicators\")\n",
    "\n",
    "\n",
    "from cs_dictionary import CSDictionary\n",
    "from lstm import lstm_1layer, lstm_2layer\n",
    "from sequences import sequences\n",
    "from ticks import Ticks\n",
    "from metrics import metrics\n",
    "from utils.plots import plot_marks"
   ]
  },
  {
   "cell_type": "code",
   "execution_count": 4,
   "metadata": {},
   "outputs": [
    {
     "name": "stdout",
     "output_type": "stream",
     "text": [
      "2020-09-28 09:05:36 - INFO  - CSDictionary:__init__           - Using configuration parameters from: ../src/predictor/params.eurusd.yaml\n"
     ]
    },
    {
     "data": {
      "text/html": [
       "<div>\n",
       "<style scoped>\n",
       "    .dataframe tbody tr th:only-of-type {\n",
       "        vertical-align: middle;\n",
       "    }\n",
       "\n",
       "    .dataframe tbody tr th {\n",
       "        vertical-align: top;\n",
       "    }\n",
       "\n",
       "    .dataframe thead th {\n",
       "        text-align: right;\n",
       "    }\n",
       "</style>\n",
       "<table border=\"1\" class=\"dataframe\">\n",
       "  <thead>\n",
       "    <tr style=\"text-align: right;\">\n",
       "      <th></th>\n",
       "      <th>open</th>\n",
       "      <th>high</th>\n",
       "      <th>low</th>\n",
       "      <th>close</th>\n",
       "      <th>trend</th>\n",
       "      <th>med_filter</th>\n",
       "      <th>change</th>\n",
       "      <th>returns</th>\n",
       "      <th>gmf</th>\n",
       "      <th>mono_gmf</th>\n",
       "    </tr>\n",
       "    <tr>\n",
       "      <th>Datetime</th>\n",
       "      <th></th>\n",
       "      <th></th>\n",
       "      <th></th>\n",
       "      <th></th>\n",
       "      <th></th>\n",
       "      <th></th>\n",
       "      <th></th>\n",
       "      <th></th>\n",
       "      <th></th>\n",
       "      <th></th>\n",
       "    </tr>\n",
       "  </thead>\n",
       "  <tbody>\n",
       "    <tr>\n",
       "      <th>2018-01-01</th>\n",
       "      <td>1.2274</td>\n",
       "      <td>1.1598</td>\n",
       "      <td>1.2794</td>\n",
       "      <td>1.2442</td>\n",
       "      <td>1.0</td>\n",
       "      <td>1.2423</td>\n",
       "      <td>0.0000</td>\n",
       "      <td>0.000000</td>\n",
       "      <td>0.001247</td>\n",
       "      <td>0.0</td>\n",
       "    </tr>\n",
       "    <tr>\n",
       "      <th>2018-01-02</th>\n",
       "      <td>1.2292</td>\n",
       "      <td>1.2731</td>\n",
       "      <td>1.2922</td>\n",
       "      <td>1.3358</td>\n",
       "      <td>1.0</td>\n",
       "      <td>1.2442</td>\n",
       "      <td>0.0916</td>\n",
       "      <td>0.073622</td>\n",
       "      <td>0.001905</td>\n",
       "      <td>0.0</td>\n",
       "    </tr>\n",
       "    <tr>\n",
       "      <th>2018-01-03</th>\n",
       "      <td>1.3218</td>\n",
       "      <td>1.2430</td>\n",
       "      <td>1.2794</td>\n",
       "      <td>1.2423</td>\n",
       "      <td>0.0</td>\n",
       "      <td>1.2753</td>\n",
       "      <td>-0.0935</td>\n",
       "      <td>-0.069996</td>\n",
       "      <td>0.003268</td>\n",
       "      <td>0.0</td>\n",
       "    </tr>\n",
       "    <tr>\n",
       "      <th>2018-01-04</th>\n",
       "      <td>1.2292</td>\n",
       "      <td>1.2873</td>\n",
       "      <td>1.2849</td>\n",
       "      <td>1.3449</td>\n",
       "      <td>1.0</td>\n",
       "      <td>1.2918</td>\n",
       "      <td>0.1026</td>\n",
       "      <td>0.082589</td>\n",
       "      <td>0.005403</td>\n",
       "      <td>0.0</td>\n",
       "    </tr>\n",
       "    <tr>\n",
       "      <th>2018-01-05</th>\n",
       "      <td>1.3309</td>\n",
       "      <td>1.2767</td>\n",
       "      <td>1.3160</td>\n",
       "      <td>1.2753</td>\n",
       "      <td>0.0</td>\n",
       "      <td>1.2753</td>\n",
       "      <td>-0.0696</td>\n",
       "      <td>-0.051751</td>\n",
       "      <td>0.008347</td>\n",
       "      <td>0.0</td>\n",
       "    </tr>\n",
       "  </tbody>\n",
       "</table>\n",
       "</div>"
      ],
      "text/plain": [
       "              open    high     low   close  trend  med_filter  change  \\\n",
       "Datetime                                                                \n",
       "2018-01-01  1.2274  1.1598  1.2794  1.2442    1.0      1.2423  0.0000   \n",
       "2018-01-02  1.2292  1.2731  1.2922  1.3358    1.0      1.2442  0.0916   \n",
       "2018-01-03  1.3218  1.2430  1.2794  1.2423    0.0      1.2753 -0.0935   \n",
       "2018-01-04  1.2292  1.2873  1.2849  1.3449    1.0      1.2918  0.1026   \n",
       "2018-01-05  1.3309  1.2767  1.3160  1.2753    0.0      1.2753 -0.0696   \n",
       "\n",
       "             returns       gmf  mono_gmf  \n",
       "Datetime                                  \n",
       "2018-01-01  0.000000  0.001247       0.0  \n",
       "2018-01-02  0.073622  0.001905       0.0  \n",
       "2018-01-03 -0.069996  0.003268       0.0  \n",
       "2018-01-04  0.082589  0.005403       0.0  \n",
       "2018-01-05 -0.051751  0.008347       0.0  "
      ]
     },
     "execution_count": 4,
     "metadata": {},
     "output_type": "execute_result"
    }
   ],
   "source": [
    "argv = [\n",
    "    \"\",\n",
    "    \"-c\",\n",
    "    \"../src/predictor/params.eurusd.yaml\",\n",
    "    \"-f\",\n",
    "    \"../data/EURUSD/EURUSD_2018_2020.csv\",\n",
    "    \"--window\",\n",
    "    \"8\",\n",
    "    \"--epochs\",\n",
    "    \"200\",\n",
    "    \"train\",\n",
    "]\n",
    "params = CSDictionary(args=argv)\n",
    "\n",
    "ticks = Ticks(params, params.input_file).scale()\n",
    "ticks.append_indicator([\"trend\", \"median_filter\", \"change\"])\n",
    "ticks.append_indicator(\"gmf\", monotonic_window=7, mf_window=3, sigma=5)\n",
    "ticks.append_indicator(\"mono_gmf\", monotonic_window=7, mf_window=3, sigma=5)\n",
    "ticks.data.head()"
   ]
  },
  {
   "cell_type": "code",
   "execution_count": 5,
   "metadata": {},
   "outputs": [],
   "source": [
    "def run(name, binary=False):\n",
    "    nn = lstm_2layer(params, binary=binary)\n",
    "    nn.start_training(X_train, y_train, name)\n",
    "    nn.evaluate(X_test, y_test)\n",
    "    nn.end_experiment()"
   ]
  },
  {
   "cell_type": "code",
   "execution_count": null,
   "metadata": {},
   "outputs": [
    {
     "name": "stdout",
     "output_type": "stream",
     "text": [
      "Window size = 5\n",
      "2020-09-28 09:06:18 - INFO  - lstm_2layer:_build_model        - NN lstm_2layer created\n",
      "INFO: 'GMF with GMF' does not exist. Creating a new experiment\n",
      "2020-09-28 09:09:17 - INFO  - lstm_2layer:evaluate            - Predictions (yhat): (85, 1)\n",
      "2020-09-28 09:09:17 - INFO  - lstm_2layer:evaluate            - Trend acc.: 0.64\n",
      "Window size = 10\n",
      "2020-09-28 09:09:17 - INFO  - lstm_2layer:_build_model        - NN lstm_2layer created\n"
     ]
    }
   ],
   "source": [
    "for ws in [5, 10, 15, 20, 25, 30]:\n",
    "    print(f\"Window size = {ws}\")\n",
    "    params.window_size = ws\n",
    "    X_train, y_train, X_test, y_test = ticks.prepare_for_training(\n",
    "        predict=\"gmf\", train_columns=['gmf']\n",
    "    )\n",
    "    run(\"GMF with GMF\", binary=False)"
   ]
  },
  {
   "cell_type": "code",
   "execution_count": null,
   "metadata": {},
   "outputs": [],
   "source": []
  },
  {
   "cell_type": "code",
   "execution_count": null,
   "metadata": {},
   "outputs": [],
   "source": []
  },
  {
   "cell_type": "code",
   "execution_count": null,
   "metadata": {},
   "outputs": [],
   "source": []
  },
  {
   "cell_type": "code",
   "execution_count": null,
   "metadata": {},
   "outputs": [],
   "source": []
  },
  {
   "cell_type": "code",
   "execution_count": null,
   "metadata": {},
   "outputs": [],
   "source": []
  }
 ],
 "metadata": {
  "kernelspec": {
   "display_name": "Python 3",
   "language": "python",
   "name": "python3"
  },
  "language_info": {
   "codemirror_mode": {
    "name": "ipython",
    "version": 3
   },
   "file_extension": ".py",
   "mimetype": "text/x-python",
   "name": "python",
   "nbconvert_exporter": "python",
   "pygments_lexer": "ipython3",
   "version": "3.7.8"
  }
 },
 "nbformat": 4,
 "nbformat_minor": 4
}
